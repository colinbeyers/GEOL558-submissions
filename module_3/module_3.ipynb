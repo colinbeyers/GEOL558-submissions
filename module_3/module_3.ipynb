{
 "cells": [
  {
   "cell_type": "markdown",
   "metadata": {},
   "source": [
    "# **Module 3:** Supervised Classification Project"
   ]
  },
  {
   "cell_type": "markdown",
   "metadata": {},
   "source": [
    "Colin Beyers\\\n",
    "GEOL558"
   ]
  },
  {
   "cell_type": "markdown",
   "metadata": {},
   "source": [
    "# Project Overview"
   ]
  },
  {
   "cell_type": "markdown",
   "metadata": {},
   "source": [
    "**Title**: Classifying Sea State with Machine Learning"
   ]
  },
  {
   "cell_type": "markdown",
   "metadata": {},
   "source": [
    "This project aims to classify sea states based on oceanographic variables such as significant wave height, wave period, and wind speed. Sea states are crucial for maritime activities, providing valuable information on potential hazards and navigational conditions. Machine learning (ML) is employed to automate the classification process, leveraging large datasets and complex relationships between environmental factors that are difficult to model explicitly using traditional approaches. The project uses observational data from a NOAA National Data Buoy Center (NDBC) buoy 46025, off the coast of Malibu. This buoy measures significant wave height (WVHT), wave period (DPD), and wind speed (WSPD), which are key predictors of sea state conditions. By applying ML, the project can efficiently analyze and classify sea state conditions in real-time, helping decision-makers in shipping, navigation, and coastal management."
   ]
  },
  {
   "cell_type": "markdown",
   "metadata": {},
   "source": [
    "## Imports"
   ]
  },
  {
   "cell_type": "code",
   "execution_count": 1,
   "metadata": {},
   "outputs": [],
   "source": [
    "# !pip install cartopy"
   ]
  },
  {
   "cell_type": "code",
   "execution_count": 115,
   "metadata": {},
   "outputs": [],
   "source": [
    "# data handling\n",
    "import pandas as pd\n",
    "import numpy  as np\n",
    "\n",
    "# plotting \n",
    "import seaborn              as sbn\n",
    "import matplotlib.pyplot    as pyp\n",
    "import cartopy.crs          as ccrs\n",
    "import cartopy.feature      as cfeature\n",
    "\n",
    "# modeling\n",
    "from sklearn.preprocessing      import StandardScaler, LabelEncoder\n",
    "from sklearn.ensemble           import GradientBoostingClassifier\n",
    "from sklearn.linear_model       import LogisticRegression\n",
    "from sklearn.svm                import SVC\n",
    "from sklearn.model_selection    import GridSearchCV\n",
    "from sklearn.model_selection    import RandomizedSearchCV\n",
    "from sklearn.metrics            import precision_score, recall_score, f1_score, confusion_matrix"
   ]
  },
  {
   "cell_type": "markdown",
   "metadata": {},
   "source": [
    "# Data Aquisition"
   ]
  },
  {
   "cell_type": "markdown",
   "metadata": {},
   "source": [
    "NDBC data can be easily accessed via an API call. An example of how to do this is below, but will not be used here. For this project, I collected the data in a separate notebook, saved, and uploaded to GitHub so others can use it easily."
   ]
  },
  {
   "cell_type": "code",
   "execution_count": 3,
   "metadata": {},
   "outputs": [],
   "source": [
    "# buoy_id = \"46025\" # Santa Monica Bay, CA\n",
    "# year = \"2023\"\n",
    "# url = f\"https://www.ndbc.noaa.gov/view_text_file.php?filename={buoy_id}h{year}.txt.gz&dir=data/historical/stdmet/\"\n",
    "# df = pd.read_csv(url, delim_whitespace=True, skiprows=[1])  # first row is metadata"
   ]
  },
  {
   "cell_type": "code",
   "execution_count": 4,
   "metadata": {},
   "outputs": [],
   "source": [
    "url = 'https://raw.githubusercontent.com/colinbeyers/GEOL558-submissions/refs/heads/main/module_3/NDBC_46025-wave_params-2023.csv'\n",
    "df = pd.read_csv(url)"
   ]
  },
  {
   "cell_type": "markdown",
   "metadata": {},
   "source": [
    "# Data Preprocessing"
   ]
  },
  {
   "cell_type": "markdown",
   "metadata": {},
   "source": [
    "This dataset and buoy were chosen for a couple reasons:\n",
    "- It has a wind speed measurement device\n",
    "- It has WMO (World Meteorological Organization) seastate labels, which are used to classify seastate"
   ]
  },
  {
   "cell_type": "code",
   "execution_count": 5,
   "metadata": {},
   "outputs": [
    {
     "name": "stdout",
     "output_type": "stream",
     "text": [
      "<class 'pandas.core.frame.DataFrame'>\n",
      "RangeIndex: 52519 entries, 0 to 52518\n",
      "Data columns (total 20 columns):\n",
      " #   Column      Non-Null Count  Dtype  \n",
      "---  ------      --------------  -----  \n",
      " 0   Unnamed: 0  52519 non-null  int64  \n",
      " 1   #YY         52519 non-null  int64  \n",
      " 2   MM          52519 non-null  int64  \n",
      " 3   DD          52519 non-null  int64  \n",
      " 4   hh          52519 non-null  int64  \n",
      " 5   mm          52519 non-null  int64  \n",
      " 6   WDIR        52519 non-null  int64  \n",
      " 7   WSPD        52519 non-null  float64\n",
      " 8   GST         52519 non-null  float64\n",
      " 9   WVHT        52519 non-null  float64\n",
      " 10  DPD         52519 non-null  float64\n",
      " 11  APD         52519 non-null  float64\n",
      " 12  MWD         52519 non-null  int64  \n",
      " 13  PRES        52519 non-null  float64\n",
      " 14  ATMP        52519 non-null  float64\n",
      " 15  WTMP        52519 non-null  float64\n",
      " 16  DEWP        52519 non-null  float64\n",
      " 17  VIS         52519 non-null  float64\n",
      " 18  TIDE        52519 non-null  float64\n",
      " 19  WMOS        52519 non-null  object \n",
      "dtypes: float64(11), int64(8), object(1)\n",
      "memory usage: 8.0+ MB\n"
     ]
    }
   ],
   "source": [
    "df.info()"
   ]
  },
  {
   "cell_type": "markdown",
   "metadata": {},
   "source": [
    "The features in this dataset are:\n",
    "- YY/MM/DD/hh/mm: The year, month, day, hour, and minute of the observation\n",
    "- WDIR/WSPD: wind direction and speed\n",
    "- GST: gust speed\n",
    "- WVHT: wave height\n",
    "- DPD/APD: dominant and average period\n",
    "- MWD: mean wave direction\n",
    "- PRES: atmospheric pressure\n",
    "- ATMP/WTMP: atmospheric and water temperatures\n",
    "- DEWP: dew point\n",
    "- VIS: visibility\n",
    "- TIDE: tide height\n",
    "- WMOS: SMO sea state classification"
   ]
  },
  {
   "cell_type": "markdown",
   "metadata": {},
   "source": [
    "There's a couple things I want to do with this data:\n",
    "1) Drop variables that do not contribute to sea state: WDIR, MWD, GST, PRES, ATMP/WTMP, DEWP, VIS, and TIDE. I am unsure which out of DPD and APD are considered for sea state classification (WMO and NOAA's websites doesn't make this clear).\n",
    "2) Rename variables to be more clear"
   ]
  },
  {
   "cell_type": "code",
   "execution_count": 6,
   "metadata": {},
   "outputs": [],
   "source": [
    "df = df.drop(columns=['WDIR', 'MWD', 'GST', 'PRES', 'ATMP', 'WTMP', 'DEWP', 'VIS', 'TIDE'])"
   ]
  },
  {
   "cell_type": "code",
   "execution_count": 7,
   "metadata": {},
   "outputs": [],
   "source": [
    "df = df.rename(columns={\n",
    "    'WDIR': 'wind_dir',\n",
    "    'WSPD': 'wind_speed',\n",
    "    'WVHT': 'wave_height',\n",
    "    'DPD': 'dominant_period',\n",
    "    'APD': 'avg_period',\n",
    "    'WMOS': 'WMO_seastate'\n",
    "})"
   ]
  },
  {
   "cell_type": "code",
   "execution_count": 8,
   "metadata": {},
   "outputs": [
    {
     "data": {
      "text/html": [
       "<div>\n",
       "<style scoped>\n",
       "    .dataframe tbody tr th:only-of-type {\n",
       "        vertical-align: middle;\n",
       "    }\n",
       "\n",
       "    .dataframe tbody tr th {\n",
       "        vertical-align: top;\n",
       "    }\n",
       "\n",
       "    .dataframe thead th {\n",
       "        text-align: right;\n",
       "    }\n",
       "</style>\n",
       "<table border=\"1\" class=\"dataframe\">\n",
       "  <thead>\n",
       "    <tr style=\"text-align: right;\">\n",
       "      <th></th>\n",
       "      <th>Unnamed: 0</th>\n",
       "      <th>#YY</th>\n",
       "      <th>MM</th>\n",
       "      <th>DD</th>\n",
       "      <th>hh</th>\n",
       "      <th>mm</th>\n",
       "      <th>wind_speed</th>\n",
       "      <th>wave_height</th>\n",
       "      <th>dominant_period</th>\n",
       "      <th>avg_period</th>\n",
       "    </tr>\n",
       "  </thead>\n",
       "  <tbody>\n",
       "    <tr>\n",
       "      <th>count</th>\n",
       "      <td>52519.000000</td>\n",
       "      <td>52519.0</td>\n",
       "      <td>52519.000000</td>\n",
       "      <td>52519.000000</td>\n",
       "      <td>52519.000000</td>\n",
       "      <td>52519.000000</td>\n",
       "      <td>52519.000000</td>\n",
       "      <td>52519.000000</td>\n",
       "      <td>52519.000000</td>\n",
       "      <td>52519.000000</td>\n",
       "    </tr>\n",
       "    <tr>\n",
       "      <th>mean</th>\n",
       "      <td>26259.000000</td>\n",
       "      <td>2023.0</td>\n",
       "      <td>6.525924</td>\n",
       "      <td>15.716217</td>\n",
       "      <td>11.503589</td>\n",
       "      <td>25.000857</td>\n",
       "      <td>3.758072</td>\n",
       "      <td>66.453144</td>\n",
       "      <td>70.084279</td>\n",
       "      <td>68.134436</td>\n",
       "    </tr>\n",
       "    <tr>\n",
       "      <th>std</th>\n",
       "      <td>15161.073731</td>\n",
       "      <td>0.0</td>\n",
       "      <td>3.448661</td>\n",
       "      <td>8.797360</td>\n",
       "      <td>6.921193</td>\n",
       "      <td>17.077262</td>\n",
       "      <td>3.062548</td>\n",
       "      <td>46.101451</td>\n",
       "      <td>41.013649</td>\n",
       "      <td>43.726300</td>\n",
       "    </tr>\n",
       "    <tr>\n",
       "      <th>min</th>\n",
       "      <td>0.000000</td>\n",
       "      <td>2023.0</td>\n",
       "      <td>1.000000</td>\n",
       "      <td>1.000000</td>\n",
       "      <td>0.000000</td>\n",
       "      <td>0.000000</td>\n",
       "      <td>0.000000</td>\n",
       "      <td>0.390000</td>\n",
       "      <td>3.450000</td>\n",
       "      <td>3.610000</td>\n",
       "    </tr>\n",
       "    <tr>\n",
       "      <th>25%</th>\n",
       "      <td>13129.500000</td>\n",
       "      <td>2023.0</td>\n",
       "      <td>4.000000</td>\n",
       "      <td>8.000000</td>\n",
       "      <td>6.000000</td>\n",
       "      <td>10.000000</td>\n",
       "      <td>2.100000</td>\n",
       "      <td>1.300000</td>\n",
       "      <td>14.810000</td>\n",
       "      <td>6.760000</td>\n",
       "    </tr>\n",
       "    <tr>\n",
       "      <th>50%</th>\n",
       "      <td>26259.000000</td>\n",
       "      <td>2023.0</td>\n",
       "      <td>7.000000</td>\n",
       "      <td>16.000000</td>\n",
       "      <td>12.000000</td>\n",
       "      <td>30.000000</td>\n",
       "      <td>3.300000</td>\n",
       "      <td>99.000000</td>\n",
       "      <td>99.000000</td>\n",
       "      <td>99.000000</td>\n",
       "    </tr>\n",
       "    <tr>\n",
       "      <th>75%</th>\n",
       "      <td>39388.500000</td>\n",
       "      <td>2023.0</td>\n",
       "      <td>10.000000</td>\n",
       "      <td>23.000000</td>\n",
       "      <td>18.000000</td>\n",
       "      <td>40.000000</td>\n",
       "      <td>4.800000</td>\n",
       "      <td>99.000000</td>\n",
       "      <td>99.000000</td>\n",
       "      <td>99.000000</td>\n",
       "    </tr>\n",
       "    <tr>\n",
       "      <th>max</th>\n",
       "      <td>52518.000000</td>\n",
       "      <td>2023.0</td>\n",
       "      <td>12.000000</td>\n",
       "      <td>31.000000</td>\n",
       "      <td>23.000000</td>\n",
       "      <td>50.000000</td>\n",
       "      <td>99.000000</td>\n",
       "      <td>99.000000</td>\n",
       "      <td>99.000000</td>\n",
       "      <td>99.000000</td>\n",
       "    </tr>\n",
       "  </tbody>\n",
       "</table>\n",
       "</div>"
      ],
      "text/plain": [
       "         Unnamed: 0      #YY            MM            DD            hh  \\\n",
       "count  52519.000000  52519.0  52519.000000  52519.000000  52519.000000   \n",
       "mean   26259.000000   2023.0      6.525924     15.716217     11.503589   \n",
       "std    15161.073731      0.0      3.448661      8.797360      6.921193   \n",
       "min        0.000000   2023.0      1.000000      1.000000      0.000000   \n",
       "25%    13129.500000   2023.0      4.000000      8.000000      6.000000   \n",
       "50%    26259.000000   2023.0      7.000000     16.000000     12.000000   \n",
       "75%    39388.500000   2023.0     10.000000     23.000000     18.000000   \n",
       "max    52518.000000   2023.0     12.000000     31.000000     23.000000   \n",
       "\n",
       "                 mm    wind_speed   wave_height  dominant_period    avg_period  \n",
       "count  52519.000000  52519.000000  52519.000000     52519.000000  52519.000000  \n",
       "mean      25.000857      3.758072     66.453144        70.084279     68.134436  \n",
       "std       17.077262      3.062548     46.101451        41.013649     43.726300  \n",
       "min        0.000000      0.000000      0.390000         3.450000      3.610000  \n",
       "25%       10.000000      2.100000      1.300000        14.810000      6.760000  \n",
       "50%       30.000000      3.300000     99.000000        99.000000     99.000000  \n",
       "75%       40.000000      4.800000     99.000000        99.000000     99.000000  \n",
       "max       50.000000     99.000000     99.000000        99.000000     99.000000  "
      ]
     },
     "execution_count": 8,
     "metadata": {},
     "output_type": "execute_result"
    }
   ],
   "source": [
    "df.describe()"
   ]
  },
  {
   "cell_type": "markdown",
   "metadata": {},
   "source": [
    "We have a lot of observations to work with here, however the \"max\" for each feature shows that many have a max of 99. This is likely used to express bad/missing data."
   ]
  },
  {
   "cell_type": "code",
   "execution_count": 9,
   "metadata": {},
   "outputs": [
    {
     "data": {
      "text/plain": [
       "0        99.00\n",
       "1         1.30\n",
       "2        99.00\n",
       "3        99.00\n",
       "4         1.44\n",
       "         ...  \n",
       "52514     2.54\n",
       "52515    99.00\n",
       "52516    99.00\n",
       "52517     2.13\n",
       "52518    99.00\n",
       "Name: wave_height, Length: 52519, dtype: float64"
      ]
     },
     "execution_count": 9,
     "metadata": {},
     "output_type": "execute_result"
    }
   ],
   "source": [
    "df['wave_height']"
   ]
  },
  {
   "cell_type": "markdown",
   "metadata": {},
   "source": [
    "For example, `wave_height` only has actual observations every few rows. For all features, we should remove these so that they don't skew our model."
   ]
  },
  {
   "cell_type": "code",
   "execution_count": 10,
   "metadata": {},
   "outputs": [],
   "source": [
    "df = df[~df[['avg_period', 'dominant_period', 'wave_height', 'wind_speed']].isin([99]).any(axis=1)]"
   ]
  },
  {
   "cell_type": "code",
   "execution_count": 11,
   "metadata": {},
   "outputs": [
    {
     "data": {
      "text/html": [
       "<div>\n",
       "<style scoped>\n",
       "    .dataframe tbody tr th:only-of-type {\n",
       "        vertical-align: middle;\n",
       "    }\n",
       "\n",
       "    .dataframe tbody tr th {\n",
       "        vertical-align: top;\n",
       "    }\n",
       "\n",
       "    .dataframe thead th {\n",
       "        text-align: right;\n",
       "    }\n",
       "</style>\n",
       "<table border=\"1\" class=\"dataframe\">\n",
       "  <thead>\n",
       "    <tr style=\"text-align: right;\">\n",
       "      <th></th>\n",
       "      <th>Unnamed: 0</th>\n",
       "      <th>#YY</th>\n",
       "      <th>MM</th>\n",
       "      <th>DD</th>\n",
       "      <th>hh</th>\n",
       "      <th>mm</th>\n",
       "      <th>wind_speed</th>\n",
       "      <th>wave_height</th>\n",
       "      <th>dominant_period</th>\n",
       "      <th>avg_period</th>\n",
       "    </tr>\n",
       "  </thead>\n",
       "  <tbody>\n",
       "    <tr>\n",
       "      <th>count</th>\n",
       "      <td>17466.000000</td>\n",
       "      <td>17466.0</td>\n",
       "      <td>17466.000000</td>\n",
       "      <td>17466.000000</td>\n",
       "      <td>17466.000000</td>\n",
       "      <td>17466.000000</td>\n",
       "      <td>17466.000000</td>\n",
       "      <td>17466.000000</td>\n",
       "      <td>17466.000000</td>\n",
       "      <td>17466.000000</td>\n",
       "    </tr>\n",
       "    <tr>\n",
       "      <th>mean</th>\n",
       "      <td>26271.525421</td>\n",
       "      <td>2023.0</td>\n",
       "      <td>6.528799</td>\n",
       "      <td>15.715275</td>\n",
       "      <td>11.501374</td>\n",
       "      <td>25.000000</td>\n",
       "      <td>3.720319</td>\n",
       "      <td>1.156357</td>\n",
       "      <td>12.073102</td>\n",
       "      <td>6.210802</td>\n",
       "    </tr>\n",
       "    <tr>\n",
       "      <th>std</th>\n",
       "      <td>15165.323685</td>\n",
       "      <td>0.0</td>\n",
       "      <td>3.449642</td>\n",
       "      <td>8.802653</td>\n",
       "      <td>6.919845</td>\n",
       "      <td>15.000429</td>\n",
       "      <td>2.400096</td>\n",
       "      <td>0.544164</td>\n",
       "      <td>3.731921</td>\n",
       "      <td>1.390330</td>\n",
       "    </tr>\n",
       "    <tr>\n",
       "      <th>min</th>\n",
       "      <td>1.000000</td>\n",
       "      <td>2023.0</td>\n",
       "      <td>1.000000</td>\n",
       "      <td>1.000000</td>\n",
       "      <td>0.000000</td>\n",
       "      <td>10.000000</td>\n",
       "      <td>0.000000</td>\n",
       "      <td>0.390000</td>\n",
       "      <td>3.450000</td>\n",
       "      <td>3.610000</td>\n",
       "    </tr>\n",
       "    <tr>\n",
       "      <th>25%</th>\n",
       "      <td>13129.750000</td>\n",
       "      <td>2023.0</td>\n",
       "      <td>4.000000</td>\n",
       "      <td>8.000000</td>\n",
       "      <td>6.000000</td>\n",
       "      <td>10.000000</td>\n",
       "      <td>2.100000</td>\n",
       "      <td>0.830000</td>\n",
       "      <td>9.090000</td>\n",
       "      <td>5.280000</td>\n",
       "    </tr>\n",
       "    <tr>\n",
       "      <th>50%</th>\n",
       "      <td>26290.500000</td>\n",
       "      <td>2023.0</td>\n",
       "      <td>7.000000</td>\n",
       "      <td>16.000000</td>\n",
       "      <td>11.500000</td>\n",
       "      <td>25.000000</td>\n",
       "      <td>3.200000</td>\n",
       "      <td>0.990000</td>\n",
       "      <td>12.900000</td>\n",
       "      <td>5.850000</td>\n",
       "    </tr>\n",
       "    <tr>\n",
       "      <th>75%</th>\n",
       "      <td>39404.250000</td>\n",
       "      <td>2023.0</td>\n",
       "      <td>10.000000</td>\n",
       "      <td>23.000000</td>\n",
       "      <td>17.000000</td>\n",
       "      <td>40.000000</td>\n",
       "      <td>4.800000</td>\n",
       "      <td>1.290000</td>\n",
       "      <td>14.810000</td>\n",
       "      <td>6.750000</td>\n",
       "    </tr>\n",
       "    <tr>\n",
       "      <th>max</th>\n",
       "      <td>52517.000000</td>\n",
       "      <td>2023.0</td>\n",
       "      <td>12.000000</td>\n",
       "      <td>31.000000</td>\n",
       "      <td>23.000000</td>\n",
       "      <td>40.000000</td>\n",
       "      <td>17.200000</td>\n",
       "      <td>6.150000</td>\n",
       "      <td>23.530000</td>\n",
       "      <td>13.730000</td>\n",
       "    </tr>\n",
       "  </tbody>\n",
       "</table>\n",
       "</div>"
      ],
      "text/plain": [
       "         Unnamed: 0      #YY            MM            DD            hh  \\\n",
       "count  17466.000000  17466.0  17466.000000  17466.000000  17466.000000   \n",
       "mean   26271.525421   2023.0      6.528799     15.715275     11.501374   \n",
       "std    15165.323685      0.0      3.449642      8.802653      6.919845   \n",
       "min        1.000000   2023.0      1.000000      1.000000      0.000000   \n",
       "25%    13129.750000   2023.0      4.000000      8.000000      6.000000   \n",
       "50%    26290.500000   2023.0      7.000000     16.000000     11.500000   \n",
       "75%    39404.250000   2023.0     10.000000     23.000000     17.000000   \n",
       "max    52517.000000   2023.0     12.000000     31.000000     23.000000   \n",
       "\n",
       "                 mm    wind_speed   wave_height  dominant_period    avg_period  \n",
       "count  17466.000000  17466.000000  17466.000000     17466.000000  17466.000000  \n",
       "mean      25.000000      3.720319      1.156357        12.073102      6.210802  \n",
       "std       15.000429      2.400096      0.544164         3.731921      1.390330  \n",
       "min       10.000000      0.000000      0.390000         3.450000      3.610000  \n",
       "25%       10.000000      2.100000      0.830000         9.090000      5.280000  \n",
       "50%       25.000000      3.200000      0.990000        12.900000      5.850000  \n",
       "75%       40.000000      4.800000      1.290000        14.810000      6.750000  \n",
       "max       40.000000     17.200000      6.150000        23.530000     13.730000  "
      ]
     },
     "execution_count": 11,
     "metadata": {},
     "output_type": "execute_result"
    }
   ],
   "source": [
    "df.describe()"
   ]
  },
  {
   "cell_type": "markdown",
   "metadata": {},
   "source": [
    "We have WAY less observations now, but there are still well over 10,000, so this dataset should still work just fine."
   ]
  },
  {
   "cell_type": "markdown",
   "metadata": {},
   "source": [
    "Last preprocessing we should do is parse the `YY`/`MM`/`DD`/`hh`/`mm` columns to a single `time` datetime object column."
   ]
  },
  {
   "cell_type": "code",
   "execution_count": 12,
   "metadata": {},
   "outputs": [],
   "source": [
    "df['time'] = pd.to_datetime(df[['#YY', 'MM', 'DD', 'hh', 'mm']].astype(str).agg('-'.join, axis=1), format='%Y-%m-%d-%H-%M')"
   ]
  },
  {
   "cell_type": "code",
   "execution_count": 13,
   "metadata": {},
   "outputs": [],
   "source": [
    "df.drop(columns=['#YY', 'MM', 'DD', 'hh', 'mm'], inplace=True)"
   ]
  },
  {
   "cell_type": "code",
   "execution_count": 14,
   "metadata": {},
   "outputs": [],
   "source": [
    "df = df[['time'] + [col for col in df.columns if col != 'time']]"
   ]
  },
  {
   "cell_type": "markdown",
   "metadata": {},
   "source": [
    "# Exploratory Data Analysis"
   ]
  },
  {
   "cell_type": "markdown",
   "metadata": {},
   "source": [
    "## Location"
   ]
  },
  {
   "cell_type": "markdown",
   "metadata": {},
   "source": [
    "While the dataset does not have the lat/lon, NOAA's website labels them as: 33.755N 119.045W."
   ]
  },
  {
   "cell_type": "code",
   "execution_count": 15,
   "metadata": {},
   "outputs": [
    {
     "data": {
      "image/png": "[encoded data removed]",
      "text/plain": [
       "<Figure size 800x800 with 1 Axes>"
      ]
     },
     "metadata": {},
     "output_type": "display_data"
    }
   ],
   "source": [
    "lat = 33.755\n",
    "lon = -119.045\n",
    "\n",
    "fig, ax = pyp.subplots(figsize=(8, 8), \n",
    "                       subplot_kw={'projection': ccrs.PlateCarree()})\n",
    "ax.set_extent([lon-2, lon+2, lat-2, lat+2])\n",
    "\n",
    "# features\n",
    "ax.coastlines(resolution='10m', color='black')\n",
    "ax.gridlines(draw_labels=True, zorder = 1)\n",
    "ax.add_feature(cfeature.OCEAN, facecolor='lightblue')\n",
    "ax.add_feature(cfeature.LAND, facecolor='wheat')\n",
    "\n",
    "# buoy location\n",
    "ax.scatter(lon, lat, \n",
    "           color='red', marker='^', edgecolor='black', \n",
    "           s=100, label='NDBC Buoy', zorder=2)\n",
    "ax.text(lon, lat-0.2, '46025', ha='center', fontsize=12, color='black')\n",
    "\n",
    "# title\n",
    "ax.set_title('Station Location')\n",
    "ax.legend(loc='upper right')\n",
    "\n",
    "pyp.show()"
   ]
  },
  {
   "cell_type": "markdown",
   "metadata": {},
   "source": [
    "This area is known as the Santa Barbara Channel. It is relatively shallow and sheltered. Malibu, a popular surfing location, is located directly above and a little to the right if the buoy."
   ]
  },
  {
   "cell_type": "markdown",
   "metadata": {},
   "source": [
    "# WMO Code distribution"
   ]
  },
  {
   "cell_type": "markdown",
   "metadata": {},
   "source": [
    "There are 10 WMO seastate codes:\n",
    "- 0: Calm (glassy)\n",
    "- 1: Calm (rippled)\n",
    "- 2: Smooth (wavelets)\n",
    "- 3: Slight\n",
    "- 4: Moderate\n",
    "- 5: Rough\n",
    "- 6: Very rough\n",
    "- 7: High\n",
    "- 8: Very high\n",
    "- 9: Phenomenal"
   ]
  },
  {
   "cell_type": "code",
   "execution_count": 16,
   "metadata": {},
   "outputs": [
    {
     "data": {
      "image/png": "[encoded data removed]",
      "text/plain": [
       "<Figure size 1000x600 with 1 Axes>"
      ]
     },
     "metadata": {},
     "output_type": "display_data"
    }
   ],
   "source": [
    "# Count the occurrences of each sea state\n",
    "seastate_counts = df['WMO_seastate'].value_counts()\n",
    "\n",
    "# Plot the bar graph\n",
    "pyp.figure(figsize=(10, 6))\n",
    "seastate_counts.plot(kind='bar', color='skyblue')\n",
    "pyp.title('Distribution of WMO Seastates')\n",
    "pyp.xlabel('Sea State')\n",
    "pyp.ylabel('Frequency')\n",
    "pyp.xticks(rotation=45)\n",
    "pyp.show()"
   ]
  },
  {
   "cell_type": "markdown",
   "metadata": {},
   "source": [
    "This dataset does not represent every code. The higher codes (6-9) are exceedingly rare and only every really observed in the Southern Ocean, North Atlantic, and North Pacific. It is unsurprising that in this sheltered channel, they are not observed. The 'calm' label could be 0 or 1, but I think it's probably 1. A truly glassy sea is very rare to observe; the NOAA documentations suggests that 'glassy' is used as the label for code 0. The most common code is 'sight', emphasizing the relatively calm/smooth waves that are usually found in this region."
   ]
  },
  {
   "cell_type": "markdown",
   "metadata": {},
   "source": [
    "# Feature Correlations"
   ]
  },
  {
   "cell_type": "code",
   "execution_count": 17,
   "metadata": {},
   "outputs": [
    {
     "data": {
      "image/png": "[encoded data removed]",
      "text/plain": [
       "<Figure size 800x600 with 2 Axes>"
      ]
     },
     "metadata": {},
     "output_type": "display_data"
    }
   ],
   "source": [
    "corr_matrix = df[['wave_height', \n",
    "                  'dominant_period', \n",
    "                  'avg_period', \n",
    "                  'wind_speed']].corr()\n",
    "\n",
    "# Plot the heatmap\n",
    "pyp.figure(figsize=(8, 6))\n",
    "sbn.heatmap(corr_matrix, annot=True, cmap='coolwarm', fmt='.2f', cbar=True)\n",
    "pyp.title('Correlation Matrix Heatmap')\n",
    "pyp.show()"
   ]
  },
  {
   "cell_type": "markdown",
   "metadata": {},
   "source": [
    "Unsurprisingly, the wind speed and wave height are somewhat positively correlated. Stronger winds = higher waves. There is also a somewhat positive correlation between wave height and average period. This shows that longer period swell waves tend to be higher than shorter waves. There is a very weak correlation between the dominant period and the wave height."
   ]
  },
  {
   "cell_type": "markdown",
   "metadata": {},
   "source": [
    "# Box and Whisker Plots"
   ]
  },
  {
   "cell_type": "code",
   "execution_count": 18,
   "metadata": {},
   "outputs": [
    {
     "data": {
      "image/png": "[encoded data removed]",
      "text/plain": [
       "<Figure size 1500x600 with 4 Axes>"
      ]
     },
     "metadata": {},
     "output_type": "display_data"
    }
   ],
   "source": [
    "features = ['wave_height', \n",
    "            'avg_period', \n",
    "            'dominant_period', \n",
    "            'wind_speed']\n",
    "\n",
    "fig, axes = pyp.subplots(nrows=1, ncols=len(features), figsize=(15, 6))\n",
    "\n",
    "for ax, feature in zip(axes, features):\n",
    "    sbn.boxplot(data=df[feature], ax=ax)\n",
    "    ax.set_title(feature)\n",
    "    ax.set_xlabel('')\n",
    "    ax.set_ylabel('')\n",
    "\n",
    "fig.suptitle('Boxplot of Numeric Features', fontsize=16)\n",
    "\n",
    "pyp.tight_layout()\n",
    "pyp.subplots_adjust(top=0.85)\n",
    "\n",
    "pyp.show()"
   ]
  },
  {
   "cell_type": "markdown",
   "metadata": {},
   "source": [
    "- Wave Height: wave heights in this region are relatively small for the entire year, averaging only 1m. Even a maximum of 6m is small compared to other locations not so protected on the California coast.\n",
    "- Average Period: the average period shows that most of the time, the seastate is dominated by locally generated wind waves. The maximum values >10s are likely when winds are quiet and swell is present.\n",
    "- Dominant Period: this shows what period of wave has the most energy when the observation was taken. Most dominant periods are >10s, which are swell waves (what people surf). This supports Malibu being such a great surfing location! Although the average period is >10s, swell waves have more energy than wind waves, so their imprint on the dominant period is more visible.\n",
    "- Wind Speed: average wind speeds in this area are relatively calm, but have the potential to be large (>10m/s) during storms."
   ]
  },
  {
   "cell_type": "markdown",
   "metadata": {},
   "source": [
    "All of these factors combined support what we see in the WMO labels - there are many instances of calmer seas. Calmer seas does not necessarily mean that the waves can't be powerful for surfing though! It just means that the waves are more organized and less \"rough\" (aggressive), which leads to a more pleasant beach and surfing experience."
   ]
  },
  {
   "cell_type": "markdown",
   "metadata": {},
   "source": [
    "# Wave Height Time Series"
   ]
  },
  {
   "cell_type": "markdown",
   "metadata": {},
   "source": [
    "Just to visualize how wave height varies with time."
   ]
  },
  {
   "cell_type": "code",
   "execution_count": 19,
   "metadata": {},
   "outputs": [
    {
     "data": {
      "image/png": "[encoded data removed]",
      "text/plain": [
       "<Figure size 1200x600 with 1 Axes>"
      ]
     },
     "metadata": {},
     "output_type": "display_data"
    }
   ],
   "source": [
    "pyp.figure(figsize=(12, 6))\n",
    "pyp.plot(df['time'], df['wave_height'], \n",
    "         color='cornflowerblue', label='Smoothed Significant Wave Height')\n",
    "pyp.title('Time Series of Significant Wave Height')\n",
    "pyp.xlabel('Date')\n",
    "pyp.ylabel('Wave Height (m)')\n",
    "pyp.xticks(rotation=45)\n",
    "pyp.grid(True, linestyle='--', alpha=0.5)\n",
    "pyp.legend()\n",
    "pyp.show()"
   ]
  },
  {
   "cell_type": "markdown",
   "metadata": {},
   "source": [
    "# First Pass"
   ]
  },
  {
   "cell_type": "markdown",
   "metadata": {},
   "source": [
    "## Feature Engineering"
   ]
  },
  {
   "cell_type": "markdown",
   "metadata": {},
   "source": [
    "Before training a model, we need to do a few things:\n",
    "- Standardize the data (so no feature dominates the model based on scale)\n",
    "- Split the features and target variables\n",
    "- Encode the WMO codes to numbers\n",
    "- Split the data for testing and training"
   ]
  },
  {
   "cell_type": "markdown",
   "metadata": {},
   "source": [
    "### 1. Split the data temporally (the data is sorted by time)"
   ]
  },
  {
   "cell_type": "markdown",
   "metadata": {},
   "source": [
    "As pointed out by Rhys, I need to first split my data before standardizing to avoid data leakage (thanks!)."
   ]
  },
  {
   "cell_type": "code",
   "execution_count": 69,
   "metadata": {},
   "outputs": [],
   "source": [
    "train_size = int(0.8 * len(df))  # 80% for training, 20% for testing\n",
    "train_data = df[:train_size]\n",
    "test_data = df[train_size:]"
   ]
  },
  {
   "cell_type": "code",
   "execution_count": 70,
   "metadata": {},
   "outputs": [],
   "source": [
    "target = 'WMO_seastate'"
   ]
  },
  {
   "cell_type": "code",
   "execution_count": 71,
   "metadata": {},
   "outputs": [],
   "source": [
    "X_train = train_data[features]\n",
    "y_train = train_data[target]\n",
    "X_test = test_data[features]\n",
    "y_test = test_data[target]"
   ]
  },
  {
   "cell_type": "markdown",
   "metadata": {},
   "source": [
    "### 2. Normalize the features using StandardScaler"
   ]
  },
  {
   "cell_type": "code",
   "execution_count": 72,
   "metadata": {},
   "outputs": [],
   "source": [
    "scaler = StandardScaler()\n",
    "X_train = scaler.fit_transform(X_train)\n",
    "X_test  = scaler.fit_transform(X_test)"
   ]
  },
  {
   "cell_type": "markdown",
   "metadata": {},
   "source": [
    "### 3. Encode the target variable `WMO_seastate`"
   ]
  },
  {
   "cell_type": "code",
   "execution_count": 73,
   "metadata": {},
   "outputs": [],
   "source": [
    "target = 'WMO_seastate'\n",
    "label_encoder = LabelEncoder()\n",
    "y_train = label_encoder.fit_transform(y_train)\n",
    "y_test  = label_encoder.fit_transform(y_test)"
   ]
  },
  {
   "cell_type": "code",
   "execution_count": 74,
   "metadata": {},
   "outputs": [
    {
     "name": "stdout",
     "output_type": "stream",
     "text": [
      "{'CALM': 0, 'MODERATE': 1, 'ROUGH': 2, 'SLIGHT': 3, 'SMOOTH': 4}\n"
     ]
    }
   ],
   "source": [
    "label_mapping = dict(zip(label_encoder.classes_, label_encoder.transform(label_encoder.classes_)))\n",
    "print(label_mapping)"
   ]
  },
  {
   "cell_type": "markdown",
   "metadata": {},
   "source": [
    "## Logistical Regression"
   ]
  },
  {
   "cell_type": "markdown",
   "metadata": {},
   "source": [
    "We can first throw our data into the least complex model and see what happens."
   ]
  },
  {
   "cell_type": "markdown",
   "metadata": {},
   "source": [
    "### Train"
   ]
  },
  {
   "cell_type": "code",
   "execution_count": 75,
   "metadata": {},
   "outputs": [
    {
     "data": {
      "text/html": [
       "<style>#sk-container-id-4 {\n",
       "  /* Definition of color scheme common for light and dark mode */\n",
       "  --sklearn-color-text: #000;\n",
       "  --sklearn-color-text-muted: #666;\n",
       "  --sklearn-color-line: gray;\n",
       "  /* Definition of color scheme for unfitted estimators */\n",
       "  --sklearn-color-unfitted-level-0: #fff5e6;\n",
       "  --sklearn-color-unfitted-level-1: #f6e4d2;\n",
       "  --sklearn-color-unfitted-level-2: #ffe0b3;\n",
       "  --sklearn-color-unfitted-level-3: chocolate;\n",
       "  /* Definition of color scheme for fitted estimators */\n",
       "  --sklearn-color-fitted-level-0: #f0f8ff;\n",
       "  --sklearn-color-fitted-level-1: #d4ebff;\n",
       "  --sklearn-color-fitted-level-2: #b3dbfd;\n",
       "  --sklearn-color-fitted-level-3: cornflowerblue;\n",
       "\n",
       "  /* Specific color for light theme */\n",
       "  --sklearn-color-text-on-default-background: var(--sg-text-color, var(--theme-code-foreground, var(--jp-content-font-color1, black)));\n",
       "  --sklearn-color-background: var(--sg-background-color, var(--theme-background, var(--jp-layout-color0, white)));\n",
       "  --sklearn-color-border-box: var(--sg-text-color, var(--theme-code-foreground, var(--jp-content-font-color1, black)));\n",
       "  --sklearn-color-icon: #696969;\n",
       "\n",
       "  @media (prefers-color-scheme: dark) {\n",
       "    /* Redefinition of color scheme for dark theme */\n",
       "    --sklearn-color-text-on-default-background: var(--sg-text-color, var(--theme-code-foreground, var(--jp-content-font-color1, white)));\n",
       "    --sklearn-color-background: var(--sg-background-color, var(--theme-background, var(--jp-layout-color0, #111)));\n",
       "    --sklearn-color-border-box: var(--sg-text-color, var(--theme-code-foreground, var(--jp-content-font-color1, white)));\n",
       "    --sklearn-color-icon: #878787;\n",
       "  }\n",
       "}\n",
       "\n",
       "#sk-container-id-4 {\n",
       "  color: var(--sklearn-color-text);\n",
       "}\n",
       "\n",
       "#sk-container-id-4 pre {\n",
       "  padding: 0;\n",
       "}\n",
       "\n",
       "#sk-container-id-4 input.sk-hidden--visually {\n",
       "  border: 0;\n",
       "  clip: rect(1px 1px 1px 1px);\n",
       "  clip: rect(1px, 1px, 1px, 1px);\n",
       "  height: 1px;\n",
       "  margin: -1px;\n",
       "  overflow: hidden;\n",
       "  padding: 0;\n",
       "  position: absolute;\n",
       "  width: 1px;\n",
       "}\n",
       "\n",
       "#sk-container-id-4 div.sk-dashed-wrapped {\n",
       "  border: 1px dashed var(--sklearn-color-line);\n",
       "  margin: 0 0.4em 0.5em 0.4em;\n",
       "  box-sizing: border-box;\n",
       "  padding-bottom: 0.4em;\n",
       "  background-color: var(--sklearn-color-background);\n",
       "}\n",
       "\n",
       "#sk-container-id-4 div.sk-container {\n",
       "  /* jupyter's `normalize.less` sets `[hidden] { display: none; }`\n",
       "     but bootstrap.min.css set `[hidden] { display: none !important; }`\n",
       "     so we also need the `!important` here to be able to override the\n",
       "     default hidden behavior on the sphinx rendered scikit-learn.org.\n",
       "     See: https://github.com/scikit-learn/scikit-learn/issues/21755 */\n",
       "  display: inline-block !important;\n",
       "  position: relative;\n",
       "}\n",
       "\n",
       "#sk-container-id-4 div.sk-text-repr-fallback {\n",
       "  display: none;\n",
       "}\n",
       "\n",
       "div.sk-parallel-item,\n",
       "div.sk-serial,\n",
       "div.sk-item {\n",
       "  /* draw centered vertical line to link estimators */\n",
       "  background-image: linear-gradient(var(--sklearn-color-text-on-default-background), var(--sklearn-color-text-on-default-background));\n",
       "  background-size: 2px 100%;\n",
       "  background-repeat: no-repeat;\n",
       "  background-position: center center;\n",
       "}\n",
       "\n",
       "/* Parallel-specific style estimator block */\n",
       "\n",
       "#sk-container-id-4 div.sk-parallel-item::after {\n",
       "  content: \"\";\n",
       "  width: 100%;\n",
       "  border-bottom: 2px solid var(--sklearn-color-text-on-default-background);\n",
       "  flex-grow: 1;\n",
       "}\n",
       "\n",
       "#sk-container-id-4 div.sk-parallel {\n",
       "  display: flex;\n",
       "  align-items: stretch;\n",
       "  justify-content: center;\n",
       "  background-color: var(--sklearn-color-background);\n",
       "  position: relative;\n",
       "}\n",
       "\n",
       "#sk-container-id-4 div.sk-parallel-item {\n",
       "  display: flex;\n",
       "  flex-direction: column;\n",
       "}\n",
       "\n",
       "#sk-container-id-4 div.sk-parallel-item:first-child::after {\n",
       "  align-self: flex-end;\n",
       "  width: 50%;\n",
       "}\n",
       "\n",
       "#sk-container-id-4 div.sk-parallel-item:last-child::after {\n",
       "  align-self: flex-start;\n",
       "  width: 50%;\n",
       "}\n",
       "\n",
       "#sk-container-id-4 div.sk-parallel-item:only-child::after {\n",
       "  width: 0;\n",
       "}\n",
       "\n",
       "/* Serial-specific style estimator block */\n",
       "\n",
       "#sk-container-id-4 div.sk-serial {\n",
       "  display: flex;\n",
       "  flex-direction: column;\n",
       "  align-items: center;\n",
       "  background-color: var(--sklearn-color-background);\n",
       "  padding-right: 1em;\n",
       "  padding-left: 1em;\n",
       "}\n",
       "\n",
       "\n",
       "/* Toggleable style: style used for estimator/Pipeline/ColumnTransformer box that is\n",
       "clickable and can be expanded/collapsed.\n",
       "- Pipeline and ColumnTransformer use this feature and define the default style\n",
       "- Estimators will overwrite some part of the style using the `sk-estimator` class\n",
       "*/\n",
       "\n",
       "/* Pipeline and ColumnTransformer style (default) */\n",
       "\n",
       "#sk-container-id-4 div.sk-toggleable {\n",
       "  /* Default theme specific background. It is overwritten whether we have a\n",
       "  specific estimator or a Pipeline/ColumnTransformer */\n",
       "  background-color: var(--sklearn-color-background);\n",
       "}\n",
       "\n",
       "/* Toggleable label */\n",
       "#sk-container-id-4 label.sk-toggleable__label {\n",
       "  cursor: pointer;\n",
       "  display: flex;\n",
       "  width: 100%;\n",
       "  margin-bottom: 0;\n",
       "  padding: 0.5em;\n",
       "  box-sizing: border-box;\n",
       "  text-align: center;\n",
       "  align-items: start;\n",
       "  justify-content: space-between;\n",
       "  gap: 0.5em;\n",
       "}\n",
       "\n",
       "#sk-container-id-4 label.sk-toggleable__label .caption {\n",
       "  font-size: 0.6rem;\n",
       "  font-weight: lighter;\n",
       "  color: var(--sklearn-color-text-muted);\n",
       "}\n",
       "\n",
       "#sk-container-id-4 label.sk-toggleable__label-arrow:before {\n",
       "  /* Arrow on the left of the label */\n",
       "  content: \"▸\";\n",
       "  float: left;\n",
       "  margin-right: 0.25em;\n",
       "  color: var(--sklearn-color-icon);\n",
       "}\n",
       "\n",
       "#sk-container-id-4 label.sk-toggleable__label-arrow:hover:before {\n",
       "  color: var(--sklearn-color-text);\n",
       "}\n",
       "\n",
       "/* Toggleable content - dropdown */\n",
       "\n",
       "#sk-container-id-4 div.sk-toggleable__content {\n",
       "  max-height: 0;\n",
       "  max-width: 0;\n",
       "  overflow: hidden;\n",
       "  text-align: left;\n",
       "  /* unfitted */\n",
       "  background-color: var(--sklearn-color-unfitted-level-0);\n",
       "}\n",
       "\n",
       "#sk-container-id-4 div.sk-toggleable__content.fitted {\n",
       "  /* fitted */\n",
       "  background-color: var(--sklearn-color-fitted-level-0);\n",
       "}\n",
       "\n",
       "#sk-container-id-4 div.sk-toggleable__content pre {\n",
       "  margin: 0.2em;\n",
       "  border-radius: 0.25em;\n",
       "  color: var(--sklearn-color-text);\n",
       "  /* unfitted */\n",
       "  background-color: var(--sklearn-color-unfitted-level-0);\n",
       "}\n",
       "\n",
       "#sk-container-id-4 div.sk-toggleable__content.fitted pre {\n",
       "  /* unfitted */\n",
       "  background-color: var(--sklearn-color-fitted-level-0);\n",
       "}\n",
       "\n",
       "#sk-container-id-4 input.sk-toggleable__control:checked~div.sk-toggleable__content {\n",
       "  /* Expand drop-down */\n",
       "  max-height: 200px;\n",
       "  max-width: 100%;\n",
       "  overflow: auto;\n",
       "}\n",
       "\n",
       "#sk-container-id-4 input.sk-toggleable__control:checked~label.sk-toggleable__label-arrow:before {\n",
       "  content: \"▾\";\n",
       "}\n",
       "\n",
       "/* Pipeline/ColumnTransformer-specific style */\n",
       "\n",
       "#sk-container-id-4 div.sk-label input.sk-toggleable__control:checked~label.sk-toggleable__label {\n",
       "  color: var(--sklearn-color-text);\n",
       "  background-color: var(--sklearn-color-unfitted-level-2);\n",
       "}\n",
       "\n",
       "#sk-container-id-4 div.sk-label.fitted input.sk-toggleable__control:checked~label.sk-toggleable__label {\n",
       "  background-color: var(--sklearn-color-fitted-level-2);\n",
       "}\n",
       "\n",
       "/* Estimator-specific style */\n",
       "\n",
       "/* Colorize estimator box */\n",
       "#sk-container-id-4 div.sk-estimator input.sk-toggleable__control:checked~label.sk-toggleable__label {\n",
       "  /* unfitted */\n",
       "  background-color: var(--sklearn-color-unfitted-level-2);\n",
       "}\n",
       "\n",
       "#sk-container-id-4 div.sk-estimator.fitted input.sk-toggleable__control:checked~label.sk-toggleable__label {\n",
       "  /* fitted */\n",
       "  background-color: var(--sklearn-color-fitted-level-2);\n",
       "}\n",
       "\n",
       "#sk-container-id-4 div.sk-label label.sk-toggleable__label,\n",
       "#sk-container-id-4 div.sk-label label {\n",
       "  /* The background is the default theme color */\n",
       "  color: var(--sklearn-color-text-on-default-background);\n",
       "}\n",
       "\n",
       "/* On hover, darken the color of the background */\n",
       "#sk-container-id-4 div.sk-label:hover label.sk-toggleable__label {\n",
       "  color: var(--sklearn-color-text);\n",
       "  background-color: var(--sklearn-color-unfitted-level-2);\n",
       "}\n",
       "\n",
       "/* Label box, darken color on hover, fitted */\n",
       "#sk-container-id-4 div.sk-label.fitted:hover label.sk-toggleable__label.fitted {\n",
       "  color: var(--sklearn-color-text);\n",
       "  background-color: var(--sklearn-color-fitted-level-2);\n",
       "}\n",
       "\n",
       "/* Estimator label */\n",
       "\n",
       "#sk-container-id-4 div.sk-label label {\n",
       "  font-family: monospace;\n",
       "  font-weight: bold;\n",
       "  display: inline-block;\n",
       "  line-height: 1.2em;\n",
       "}\n",
       "\n",
       "#sk-container-id-4 div.sk-label-container {\n",
       "  text-align: center;\n",
       "}\n",
       "\n",
       "/* Estimator-specific */\n",
       "#sk-container-id-4 div.sk-estimator {\n",
       "  font-family: monospace;\n",
       "  border: 1px dotted var(--sklearn-color-border-box);\n",
       "  border-radius: 0.25em;\n",
       "  box-sizing: border-box;\n",
       "  margin-bottom: 0.5em;\n",
       "  /* unfitted */\n",
       "  background-color: var(--sklearn-color-unfitted-level-0);\n",
       "}\n",
       "\n",
       "#sk-container-id-4 div.sk-estimator.fitted {\n",
       "  /* fitted */\n",
       "  background-color: var(--sklearn-color-fitted-level-0);\n",
       "}\n",
       "\n",
       "/* on hover */\n",
       "#sk-container-id-4 div.sk-estimator:hover {\n",
       "  /* unfitted */\n",
       "  background-color: var(--sklearn-color-unfitted-level-2);\n",
       "}\n",
       "\n",
       "#sk-container-id-4 div.sk-estimator.fitted:hover {\n",
       "  /* fitted */\n",
       "  background-color: var(--sklearn-color-fitted-level-2);\n",
       "}\n",
       "\n",
       "/* Specification for estimator info (e.g. \"i\" and \"?\") */\n",
       "\n",
       "/* Common style for \"i\" and \"?\" */\n",
       "\n",
       ".sk-estimator-doc-link,\n",
       "a:link.sk-estimator-doc-link,\n",
       "a:visited.sk-estimator-doc-link {\n",
       "  float: right;\n",
       "  font-size: smaller;\n",
       "  line-height: 1em;\n",
       "  font-family: monospace;\n",
       "  background-color: var(--sklearn-color-background);\n",
       "  border-radius: 1em;\n",
       "  height: 1em;\n",
       "  width: 1em;\n",
       "  text-decoration: none !important;\n",
       "  margin-left: 0.5em;\n",
       "  text-align: center;\n",
       "  /* unfitted */\n",
       "  border: var(--sklearn-color-unfitted-level-1) 1pt solid;\n",
       "  color: var(--sklearn-color-unfitted-level-1);\n",
       "}\n",
       "\n",
       ".sk-estimator-doc-link.fitted,\n",
       "a:link.sk-estimator-doc-link.fitted,\n",
       "a:visited.sk-estimator-doc-link.fitted {\n",
       "  /* fitted */\n",
       "  border: var(--sklearn-color-fitted-level-1) 1pt solid;\n",
       "  color: var(--sklearn-color-fitted-level-1);\n",
       "}\n",
       "\n",
       "/* On hover */\n",
       "div.sk-estimator:hover .sk-estimator-doc-link:hover,\n",
       ".sk-estimator-doc-link:hover,\n",
       "div.sk-label-container:hover .sk-estimator-doc-link:hover,\n",
       ".sk-estimator-doc-link:hover {\n",
       "  /* unfitted */\n",
       "  background-color: var(--sklearn-color-unfitted-level-3);\n",
       "  color: var(--sklearn-color-background);\n",
       "  text-decoration: none;\n",
       "}\n",
       "\n",
       "div.sk-estimator.fitted:hover .sk-estimator-doc-link.fitted:hover,\n",
       ".sk-estimator-doc-link.fitted:hover,\n",
       "div.sk-label-container:hover .sk-estimator-doc-link.fitted:hover,\n",
       ".sk-estimator-doc-link.fitted:hover {\n",
       "  /* fitted */\n",
       "  background-color: var(--sklearn-color-fitted-level-3);\n",
       "  color: var(--sklearn-color-background);\n",
       "  text-decoration: none;\n",
       "}\n",
       "\n",
       "/* Span, style for the box shown on hovering the info icon */\n",
       ".sk-estimator-doc-link span {\n",
       "  display: none;\n",
       "  z-index: 9999;\n",
       "  position: relative;\n",
       "  font-weight: normal;\n",
       "  right: .2ex;\n",
       "  padding: .5ex;\n",
       "  margin: .5ex;\n",
       "  width: min-content;\n",
       "  min-width: 20ex;\n",
       "  max-width: 50ex;\n",
       "  color: var(--sklearn-color-text);\n",
       "  box-shadow: 2pt 2pt 4pt #999;\n",
       "  /* unfitted */\n",
       "  background: var(--sklearn-color-unfitted-level-0);\n",
       "  border: .5pt solid var(--sklearn-color-unfitted-level-3);\n",
       "}\n",
       "\n",
       ".sk-estimator-doc-link.fitted span {\n",
       "  /* fitted */\n",
       "  background: var(--sklearn-color-fitted-level-0);\n",
       "  border: var(--sklearn-color-fitted-level-3);\n",
       "}\n",
       "\n",
       ".sk-estimator-doc-link:hover span {\n",
       "  display: block;\n",
       "}\n",
       "\n",
       "/* \"?\"-specific style due to the `<a>` HTML tag */\n",
       "\n",
       "#sk-container-id-4 a.estimator_doc_link {\n",
       "  float: right;\n",
       "  font-size: 1rem;\n",
       "  line-height: 1em;\n",
       "  font-family: monospace;\n",
       "  background-color: var(--sklearn-color-background);\n",
       "  border-radius: 1rem;\n",
       "  height: 1rem;\n",
       "  width: 1rem;\n",
       "  text-decoration: none;\n",
       "  /* unfitted */\n",
       "  color: var(--sklearn-color-unfitted-level-1);\n",
       "  border: var(--sklearn-color-unfitted-level-1) 1pt solid;\n",
       "}\n",
       "\n",
       "#sk-container-id-4 a.estimator_doc_link.fitted {\n",
       "  /* fitted */\n",
       "  border: var(--sklearn-color-fitted-level-1) 1pt solid;\n",
       "  color: var(--sklearn-color-fitted-level-1);\n",
       "}\n",
       "\n",
       "/* On hover */\n",
       "#sk-container-id-4 a.estimator_doc_link:hover {\n",
       "  /* unfitted */\n",
       "  background-color: var(--sklearn-color-unfitted-level-3);\n",
       "  color: var(--sklearn-color-background);\n",
       "  text-decoration: none;\n",
       "}\n",
       "\n",
       "#sk-container-id-4 a.estimator_doc_link.fitted:hover {\n",
       "  /* fitted */\n",
       "  background-color: var(--sklearn-color-fitted-level-3);\n",
       "}\n",
       "</style><div id=\"sk-container-id-4\" class=\"sk-top-container\"><div class=\"sk-text-repr-fallback\"><pre>LogisticRegression(max_iter=1000)</pre><b>In a Jupyter environment, please rerun this cell to show the HTML representation or trust the notebook. <br />On GitHub, the HTML representation is unable to render, please try loading this page with nbviewer.org.</b></div><div class=\"sk-container\" hidden><div class=\"sk-item\"><div class=\"sk-estimator fitted sk-toggleable\"><input class=\"sk-toggleable__control sk-hidden--visually\" id=\"sk-estimator-id-4\" type=\"checkbox\" checked><label for=\"sk-estimator-id-4\" class=\"sk-toggleable__label fitted sk-toggleable__label-arrow\"><div><div>LogisticRegression</div></div><div><a class=\"sk-estimator-doc-link fitted\" rel=\"noreferrer\" target=\"_blank\" href=\"https://scikit-learn.org/1.6/modules/generated/sklearn.linear_model.LogisticRegression.html\">?<span>Documentation for LogisticRegression</span></a><span class=\"sk-estimator-doc-link fitted\">i<span>Fitted</span></span></div></label><div class=\"sk-toggleable__content fitted\"><pre>LogisticRegression(max_iter=1000)</pre></div> </div></div></div></div>"
      ],
      "text/plain": [
       "LogisticRegression(max_iter=1000)"
      ]
     },
     "execution_count": 75,
     "metadata": {},
     "output_type": "execute_result"
    }
   ],
   "source": [
    "model = LogisticRegression(max_iter=1000)\n",
    "model.fit(X_train, y_train)"
   ]
  },
  {
   "cell_type": "markdown",
   "metadata": {},
   "source": [
    "### Predict"
   ]
  },
  {
   "cell_type": "code",
   "execution_count": 76,
   "metadata": {},
   "outputs": [],
   "source": [
    "y_pred = model.predict(X_test)"
   ]
  },
  {
   "cell_type": "markdown",
   "metadata": {},
   "source": [
    "### Evaluate"
   ]
  },
  {
   "cell_type": "markdown",
   "metadata": {},
   "source": [
    "The 4 evaluation metrics I will be using are:\n",
    "- **Precision**: measures the proportion of correctly predicted instances among all instances classified as a given category, indicating how many of the positive predictions were actually correct.  \n",
    "- **Recall**: measures the proportion of correctly predicted instances out of all actual instances in that category, reflecting the model’s ability to identify all relevant cases.  \n",
    "- **F1 Score**: the harmonic mean of precision and recall, providing a balanced metric when both false positives and false negatives are important.  \n",
    "- **Confusion Matrix**: a table that summarizes the number of correct and incorrect predictions for each class, helping to visualize the model's performance across categories.  \n",
    "\n",
    "A **weighted score** calculates the overall metric by averaging individual class scores, weighted by the number of true instances in each class, ensuring that larger classes contribute proportionally more to the final score."
   ]
  },
  {
   "cell_type": "code",
   "execution_count": 77,
   "metadata": {},
   "outputs": [],
   "source": [
    "precision = precision_score(y_test, y_pred, average='weighted')\n",
    "recall = recall_score(y_test, y_pred, average='weighted')\n",
    "f1 = f1_score(y_test, y_pred, average='weighted')"
   ]
  },
  {
   "cell_type": "code",
   "execution_count": 78,
   "metadata": {},
   "outputs": [
    {
     "name": "stdout",
     "output_type": "stream",
     "text": [
      "Precision (weighted): 0.848\n",
      "Recall (weighted): 0.841\n",
      "F1 Score (weighted): 0.831\n"
     ]
    }
   ],
   "source": [
    "print(f\"Precision (weighted): {precision:.3f}\")\n",
    "print(f\"Recall (weighted): {recall:.3f}\")\n",
    "print(f\"F1 Score (weighted): {f1:.3f}\")"
   ]
  },
  {
   "cell_type": "markdown",
   "metadata": {},
   "source": [
    "- Precision: out of all the instances the model predicted a specific sea state, 77.2% of those predictions were actually correct.\n",
    "- Recall: This shows that the model was able to correctly identify 78.7% of all actual sea state instances across all classes.\n",
    "- F1 Score: This suggests that the model's performance is reasonably balanced in both identifying true positives and avoiding false positives, with a slight favor towards recall."
   ]
  },
  {
   "cell_type": "code",
   "execution_count": 79,
   "metadata": {},
   "outputs": [
    {
     "data": {
      "image/png": "[encoded data removed]",
      "text/plain": [
       "<Figure size 800x600 with 2 Axes>"
      ]
     },
     "metadata": {},
     "output_type": "display_data"
    }
   ],
   "source": [
    "cm = confusion_matrix(y_test, y_pred)\n",
    "\n",
    "pyp.figure(figsize=(8, 6))\n",
    "sbn.heatmap(cm, annot=True, fmt='g', cmap='Blues', xticklabels=label_encoder.classes_, yticklabels=label_encoder.classes_)\n",
    "pyp.title('Logistics Regression - Confusion Matrix')\n",
    "pyp.xlabel('Predicted')\n",
    "pyp.ylabel('Actual')\n",
    "pyp.show()"
   ]
  },
  {
   "cell_type": "markdown",
   "metadata": {},
   "source": [
    "- The model performs well for CALM, MODERATE, SLIGHT, and SMOOTH, with high accuracy.\n",
    "- The main confusion arises between CALM and SLIGHT, and SLIGHT with MODERATE.\n",
    "- ROUGH is predicted with lower accuracy, possibly due to its relatively small representation in the dataset."
   ]
  },
  {
   "cell_type": "markdown",
   "metadata": {},
   "source": [
    "There are not really parameters to tune for this type of model, so I will try 2 more complex models: Gradient Boosting and Support Vector Machine."
   ]
  },
  {
   "cell_type": "markdown",
   "metadata": {},
   "source": [
    "## Gradient Boosting"
   ]
  },
  {
   "cell_type": "markdown",
   "metadata": {},
   "source": [
    "We will just use the default parameters first. This is an ensemble method."
   ]
  },
  {
   "cell_type": "markdown",
   "metadata": {},
   "source": [
    "### Train"
   ]
  },
  {
   "cell_type": "code",
   "execution_count": 80,
   "metadata": {},
   "outputs": [
    {
     "data": {
      "text/html": [
       "<style>#sk-container-id-5 {\n",
       "  /* Definition of color scheme common for light and dark mode */\n",
       "  --sklearn-color-text: #000;\n",
       "  --sklearn-color-text-muted: #666;\n",
       "  --sklearn-color-line: gray;\n",
       "  /* Definition of color scheme for unfitted estimators */\n",
       "  --sklearn-color-unfitted-level-0: #fff5e6;\n",
       "  --sklearn-color-unfitted-level-1: #f6e4d2;\n",
       "  --sklearn-color-unfitted-level-2: #ffe0b3;\n",
       "  --sklearn-color-unfitted-level-3: chocolate;\n",
       "  /* Definition of color scheme for fitted estimators */\n",
       "  --sklearn-color-fitted-level-0: #f0f8ff;\n",
       "  --sklearn-color-fitted-level-1: #d4ebff;\n",
       "  --sklearn-color-fitted-level-2: #b3dbfd;\n",
       "  --sklearn-color-fitted-level-3: cornflowerblue;\n",
       "\n",
       "  /* Specific color for light theme */\n",
       "  --sklearn-color-text-on-default-background: var(--sg-text-color, var(--theme-code-foreground, var(--jp-content-font-color1, black)));\n",
       "  --sklearn-color-background: var(--sg-background-color, var(--theme-background, var(--jp-layout-color0, white)));\n",
       "  --sklearn-color-border-box: var(--sg-text-color, var(--theme-code-foreground, var(--jp-content-font-color1, black)));\n",
       "  --sklearn-color-icon: #696969;\n",
       "\n",
       "  @media (prefers-color-scheme: dark) {\n",
       "    /* Redefinition of color scheme for dark theme */\n",
       "    --sklearn-color-text-on-default-background: var(--sg-text-color, var(--theme-code-foreground, var(--jp-content-font-color1, white)));\n",
       "    --sklearn-color-background: var(--sg-background-color, var(--theme-background, var(--jp-layout-color0, #111)));\n",
       "    --sklearn-color-border-box: var(--sg-text-color, var(--theme-code-foreground, var(--jp-content-font-color1, white)));\n",
       "    --sklearn-color-icon: #878787;\n",
       "  }\n",
       "}\n",
       "\n",
       "#sk-container-id-5 {\n",
       "  color: var(--sklearn-color-text);\n",
       "}\n",
       "\n",
       "#sk-container-id-5 pre {\n",
       "  padding: 0;\n",
       "}\n",
       "\n",
       "#sk-container-id-5 input.sk-hidden--visually {\n",
       "  border: 0;\n",
       "  clip: rect(1px 1px 1px 1px);\n",
       "  clip: rect(1px, 1px, 1px, 1px);\n",
       "  height: 1px;\n",
       "  margin: -1px;\n",
       "  overflow: hidden;\n",
       "  padding: 0;\n",
       "  position: absolute;\n",
       "  width: 1px;\n",
       "}\n",
       "\n",
       "#sk-container-id-5 div.sk-dashed-wrapped {\n",
       "  border: 1px dashed var(--sklearn-color-line);\n",
       "  margin: 0 0.4em 0.5em 0.4em;\n",
       "  box-sizing: border-box;\n",
       "  padding-bottom: 0.4em;\n",
       "  background-color: var(--sklearn-color-background);\n",
       "}\n",
       "\n",
       "#sk-container-id-5 div.sk-container {\n",
       "  /* jupyter's `normalize.less` sets `[hidden] { display: none; }`\n",
       "     but bootstrap.min.css set `[hidden] { display: none !important; }`\n",
       "     so we also need the `!important` here to be able to override the\n",
       "     default hidden behavior on the sphinx rendered scikit-learn.org.\n",
       "     See: https://github.com/scikit-learn/scikit-learn/issues/21755 */\n",
       "  display: inline-block !important;\n",
       "  position: relative;\n",
       "}\n",
       "\n",
       "#sk-container-id-5 div.sk-text-repr-fallback {\n",
       "  display: none;\n",
       "}\n",
       "\n",
       "div.sk-parallel-item,\n",
       "div.sk-serial,\n",
       "div.sk-item {\n",
       "  /* draw centered vertical line to link estimators */\n",
       "  background-image: linear-gradient(var(--sklearn-color-text-on-default-background), var(--sklearn-color-text-on-default-background));\n",
       "  background-size: 2px 100%;\n",
       "  background-repeat: no-repeat;\n",
       "  background-position: center center;\n",
       "}\n",
       "\n",
       "/* Parallel-specific style estimator block */\n",
       "\n",
       "#sk-container-id-5 div.sk-parallel-item::after {\n",
       "  content: \"\";\n",
       "  width: 100%;\n",
       "  border-bottom: 2px solid var(--sklearn-color-text-on-default-background);\n",
       "  flex-grow: 1;\n",
       "}\n",
       "\n",
       "#sk-container-id-5 div.sk-parallel {\n",
       "  display: flex;\n",
       "  align-items: stretch;\n",
       "  justify-content: center;\n",
       "  background-color: var(--sklearn-color-background);\n",
       "  position: relative;\n",
       "}\n",
       "\n",
       "#sk-container-id-5 div.sk-parallel-item {\n",
       "  display: flex;\n",
       "  flex-direction: column;\n",
       "}\n",
       "\n",
       "#sk-container-id-5 div.sk-parallel-item:first-child::after {\n",
       "  align-self: flex-end;\n",
       "  width: 50%;\n",
       "}\n",
       "\n",
       "#sk-container-id-5 div.sk-parallel-item:last-child::after {\n",
       "  align-self: flex-start;\n",
       "  width: 50%;\n",
       "}\n",
       "\n",
       "#sk-container-id-5 div.sk-parallel-item:only-child::after {\n",
       "  width: 0;\n",
       "}\n",
       "\n",
       "/* Serial-specific style estimator block */\n",
       "\n",
       "#sk-container-id-5 div.sk-serial {\n",
       "  display: flex;\n",
       "  flex-direction: column;\n",
       "  align-items: center;\n",
       "  background-color: var(--sklearn-color-background);\n",
       "  padding-right: 1em;\n",
       "  padding-left: 1em;\n",
       "}\n",
       "\n",
       "\n",
       "/* Toggleable style: style used for estimator/Pipeline/ColumnTransformer box that is\n",
       "clickable and can be expanded/collapsed.\n",
       "- Pipeline and ColumnTransformer use this feature and define the default style\n",
       "- Estimators will overwrite some part of the style using the `sk-estimator` class\n",
       "*/\n",
       "\n",
       "/* Pipeline and ColumnTransformer style (default) */\n",
       "\n",
       "#sk-container-id-5 div.sk-toggleable {\n",
       "  /* Default theme specific background. It is overwritten whether we have a\n",
       "  specific estimator or a Pipeline/ColumnTransformer */\n",
       "  background-color: var(--sklearn-color-background);\n",
       "}\n",
       "\n",
       "/* Toggleable label */\n",
       "#sk-container-id-5 label.sk-toggleable__label {\n",
       "  cursor: pointer;\n",
       "  display: flex;\n",
       "  width: 100%;\n",
       "  margin-bottom: 0;\n",
       "  padding: 0.5em;\n",
       "  box-sizing: border-box;\n",
       "  text-align: center;\n",
       "  align-items: start;\n",
       "  justify-content: space-between;\n",
       "  gap: 0.5em;\n",
       "}\n",
       "\n",
       "#sk-container-id-5 label.sk-toggleable__label .caption {\n",
       "  font-size: 0.6rem;\n",
       "  font-weight: lighter;\n",
       "  color: var(--sklearn-color-text-muted);\n",
       "}\n",
       "\n",
       "#sk-container-id-5 label.sk-toggleable__label-arrow:before {\n",
       "  /* Arrow on the left of the label */\n",
       "  content: \"▸\";\n",
       "  float: left;\n",
       "  margin-right: 0.25em;\n",
       "  color: var(--sklearn-color-icon);\n",
       "}\n",
       "\n",
       "#sk-container-id-5 label.sk-toggleable__label-arrow:hover:before {\n",
       "  color: var(--sklearn-color-text);\n",
       "}\n",
       "\n",
       "/* Toggleable content - dropdown */\n",
       "\n",
       "#sk-container-id-5 div.sk-toggleable__content {\n",
       "  max-height: 0;\n",
       "  max-width: 0;\n",
       "  overflow: hidden;\n",
       "  text-align: left;\n",
       "  /* unfitted */\n",
       "  background-color: var(--sklearn-color-unfitted-level-0);\n",
       "}\n",
       "\n",
       "#sk-container-id-5 div.sk-toggleable__content.fitted {\n",
       "  /* fitted */\n",
       "  background-color: var(--sklearn-color-fitted-level-0);\n",
       "}\n",
       "\n",
       "#sk-container-id-5 div.sk-toggleable__content pre {\n",
       "  margin: 0.2em;\n",
       "  border-radius: 0.25em;\n",
       "  color: var(--sklearn-color-text);\n",
       "  /* unfitted */\n",
       "  background-color: var(--sklearn-color-unfitted-level-0);\n",
       "}\n",
       "\n",
       "#sk-container-id-5 div.sk-toggleable__content.fitted pre {\n",
       "  /* unfitted */\n",
       "  background-color: var(--sklearn-color-fitted-level-0);\n",
       "}\n",
       "\n",
       "#sk-container-id-5 input.sk-toggleable__control:checked~div.sk-toggleable__content {\n",
       "  /* Expand drop-down */\n",
       "  max-height: 200px;\n",
       "  max-width: 100%;\n",
       "  overflow: auto;\n",
       "}\n",
       "\n",
       "#sk-container-id-5 input.sk-toggleable__control:checked~label.sk-toggleable__label-arrow:before {\n",
       "  content: \"▾\";\n",
       "}\n",
       "\n",
       "/* Pipeline/ColumnTransformer-specific style */\n",
       "\n",
       "#sk-container-id-5 div.sk-label input.sk-toggleable__control:checked~label.sk-toggleable__label {\n",
       "  color: var(--sklearn-color-text);\n",
       "  background-color: var(--sklearn-color-unfitted-level-2);\n",
       "}\n",
       "\n",
       "#sk-container-id-5 div.sk-label.fitted input.sk-toggleable__control:checked~label.sk-toggleable__label {\n",
       "  background-color: var(--sklearn-color-fitted-level-2);\n",
       "}\n",
       "\n",
       "/* Estimator-specific style */\n",
       "\n",
       "/* Colorize estimator box */\n",
       "#sk-container-id-5 div.sk-estimator input.sk-toggleable__control:checked~label.sk-toggleable__label {\n",
       "  /* unfitted */\n",
       "  background-color: var(--sklearn-color-unfitted-level-2);\n",
       "}\n",
       "\n",
       "#sk-container-id-5 div.sk-estimator.fitted input.sk-toggleable__control:checked~label.sk-toggleable__label {\n",
       "  /* fitted */\n",
       "  background-color: var(--sklearn-color-fitted-level-2);\n",
       "}\n",
       "\n",
       "#sk-container-id-5 div.sk-label label.sk-toggleable__label,\n",
       "#sk-container-id-5 div.sk-label label {\n",
       "  /* The background is the default theme color */\n",
       "  color: var(--sklearn-color-text-on-default-background);\n",
       "}\n",
       "\n",
       "/* On hover, darken the color of the background */\n",
       "#sk-container-id-5 div.sk-label:hover label.sk-toggleable__label {\n",
       "  color: var(--sklearn-color-text);\n",
       "  background-color: var(--sklearn-color-unfitted-level-2);\n",
       "}\n",
       "\n",
       "/* Label box, darken color on hover, fitted */\n",
       "#sk-container-id-5 div.sk-label.fitted:hover label.sk-toggleable__label.fitted {\n",
       "  color: var(--sklearn-color-text);\n",
       "  background-color: var(--sklearn-color-fitted-level-2);\n",
       "}\n",
       "\n",
       "/* Estimator label */\n",
       "\n",
       "#sk-container-id-5 div.sk-label label {\n",
       "  font-family: monospace;\n",
       "  font-weight: bold;\n",
       "  display: inline-block;\n",
       "  line-height: 1.2em;\n",
       "}\n",
       "\n",
       "#sk-container-id-5 div.sk-label-container {\n",
       "  text-align: center;\n",
       "}\n",
       "\n",
       "/* Estimator-specific */\n",
       "#sk-container-id-5 div.sk-estimator {\n",
       "  font-family: monospace;\n",
       "  border: 1px dotted var(--sklearn-color-border-box);\n",
       "  border-radius: 0.25em;\n",
       "  box-sizing: border-box;\n",
       "  margin-bottom: 0.5em;\n",
       "  /* unfitted */\n",
       "  background-color: var(--sklearn-color-unfitted-level-0);\n",
       "}\n",
       "\n",
       "#sk-container-id-5 div.sk-estimator.fitted {\n",
       "  /* fitted */\n",
       "  background-color: var(--sklearn-color-fitted-level-0);\n",
       "}\n",
       "\n",
       "/* on hover */\n",
       "#sk-container-id-5 div.sk-estimator:hover {\n",
       "  /* unfitted */\n",
       "  background-color: var(--sklearn-color-unfitted-level-2);\n",
       "}\n",
       "\n",
       "#sk-container-id-5 div.sk-estimator.fitted:hover {\n",
       "  /* fitted */\n",
       "  background-color: var(--sklearn-color-fitted-level-2);\n",
       "}\n",
       "\n",
       "/* Specification for estimator info (e.g. \"i\" and \"?\") */\n",
       "\n",
       "/* Common style for \"i\" and \"?\" */\n",
       "\n",
       ".sk-estimator-doc-link,\n",
       "a:link.sk-estimator-doc-link,\n",
       "a:visited.sk-estimator-doc-link {\n",
       "  float: right;\n",
       "  font-size: smaller;\n",
       "  line-height: 1em;\n",
       "  font-family: monospace;\n",
       "  background-color: var(--sklearn-color-background);\n",
       "  border-radius: 1em;\n",
       "  height: 1em;\n",
       "  width: 1em;\n",
       "  text-decoration: none !important;\n",
       "  margin-left: 0.5em;\n",
       "  text-align: center;\n",
       "  /* unfitted */\n",
       "  border: var(--sklearn-color-unfitted-level-1) 1pt solid;\n",
       "  color: var(--sklearn-color-unfitted-level-1);\n",
       "}\n",
       "\n",
       ".sk-estimator-doc-link.fitted,\n",
       "a:link.sk-estimator-doc-link.fitted,\n",
       "a:visited.sk-estimator-doc-link.fitted {\n",
       "  /* fitted */\n",
       "  border: var(--sklearn-color-fitted-level-1) 1pt solid;\n",
       "  color: var(--sklearn-color-fitted-level-1);\n",
       "}\n",
       "\n",
       "/* On hover */\n",
       "div.sk-estimator:hover .sk-estimator-doc-link:hover,\n",
       ".sk-estimator-doc-link:hover,\n",
       "div.sk-label-container:hover .sk-estimator-doc-link:hover,\n",
       ".sk-estimator-doc-link:hover {\n",
       "  /* unfitted */\n",
       "  background-color: var(--sklearn-color-unfitted-level-3);\n",
       "  color: var(--sklearn-color-background);\n",
       "  text-decoration: none;\n",
       "}\n",
       "\n",
       "div.sk-estimator.fitted:hover .sk-estimator-doc-link.fitted:hover,\n",
       ".sk-estimator-doc-link.fitted:hover,\n",
       "div.sk-label-container:hover .sk-estimator-doc-link.fitted:hover,\n",
       ".sk-estimator-doc-link.fitted:hover {\n",
       "  /* fitted */\n",
       "  background-color: var(--sklearn-color-fitted-level-3);\n",
       "  color: var(--sklearn-color-background);\n",
       "  text-decoration: none;\n",
       "}\n",
       "\n",
       "/* Span, style for the box shown on hovering the info icon */\n",
       ".sk-estimator-doc-link span {\n",
       "  display: none;\n",
       "  z-index: 9999;\n",
       "  position: relative;\n",
       "  font-weight: normal;\n",
       "  right: .2ex;\n",
       "  padding: .5ex;\n",
       "  margin: .5ex;\n",
       "  width: min-content;\n",
       "  min-width: 20ex;\n",
       "  max-width: 50ex;\n",
       "  color: var(--sklearn-color-text);\n",
       "  box-shadow: 2pt 2pt 4pt #999;\n",
       "  /* unfitted */\n",
       "  background: var(--sklearn-color-unfitted-level-0);\n",
       "  border: .5pt solid var(--sklearn-color-unfitted-level-3);\n",
       "}\n",
       "\n",
       ".sk-estimator-doc-link.fitted span {\n",
       "  /* fitted */\n",
       "  background: var(--sklearn-color-fitted-level-0);\n",
       "  border: var(--sklearn-color-fitted-level-3);\n",
       "}\n",
       "\n",
       ".sk-estimator-doc-link:hover span {\n",
       "  display: block;\n",
       "}\n",
       "\n",
       "/* \"?\"-specific style due to the `<a>` HTML tag */\n",
       "\n",
       "#sk-container-id-5 a.estimator_doc_link {\n",
       "  float: right;\n",
       "  font-size: 1rem;\n",
       "  line-height: 1em;\n",
       "  font-family: monospace;\n",
       "  background-color: var(--sklearn-color-background);\n",
       "  border-radius: 1rem;\n",
       "  height: 1rem;\n",
       "  width: 1rem;\n",
       "  text-decoration: none;\n",
       "  /* unfitted */\n",
       "  color: var(--sklearn-color-unfitted-level-1);\n",
       "  border: var(--sklearn-color-unfitted-level-1) 1pt solid;\n",
       "}\n",
       "\n",
       "#sk-container-id-5 a.estimator_doc_link.fitted {\n",
       "  /* fitted */\n",
       "  border: var(--sklearn-color-fitted-level-1) 1pt solid;\n",
       "  color: var(--sklearn-color-fitted-level-1);\n",
       "}\n",
       "\n",
       "/* On hover */\n",
       "#sk-container-id-5 a.estimator_doc_link:hover {\n",
       "  /* unfitted */\n",
       "  background-color: var(--sklearn-color-unfitted-level-3);\n",
       "  color: var(--sklearn-color-background);\n",
       "  text-decoration: none;\n",
       "}\n",
       "\n",
       "#sk-container-id-5 a.estimator_doc_link.fitted:hover {\n",
       "  /* fitted */\n",
       "  background-color: var(--sklearn-color-fitted-level-3);\n",
       "}\n",
       "</style><div id=\"sk-container-id-5\" class=\"sk-top-container\"><div class=\"sk-text-repr-fallback\"><pre>GradientBoostingClassifier()</pre><b>In a Jupyter environment, please rerun this cell to show the HTML representation or trust the notebook. <br />On GitHub, the HTML representation is unable to render, please try loading this page with nbviewer.org.</b></div><div class=\"sk-container\" hidden><div class=\"sk-item\"><div class=\"sk-estimator fitted sk-toggleable\"><input class=\"sk-toggleable__control sk-hidden--visually\" id=\"sk-estimator-id-5\" type=\"checkbox\" checked><label for=\"sk-estimator-id-5\" class=\"sk-toggleable__label fitted sk-toggleable__label-arrow\"><div><div>GradientBoostingClassifier</div></div><div><a class=\"sk-estimator-doc-link fitted\" rel=\"noreferrer\" target=\"_blank\" href=\"https://scikit-learn.org/1.6/modules/generated/sklearn.ensemble.GradientBoostingClassifier.html\">?<span>Documentation for GradientBoostingClassifier</span></a><span class=\"sk-estimator-doc-link fitted\">i<span>Fitted</span></span></div></label><div class=\"sk-toggleable__content fitted\"><pre>GradientBoostingClassifier()</pre></div> </div></div></div></div>"
      ],
      "text/plain": [
       "GradientBoostingClassifier()"
      ]
     },
     "execution_count": 80,
     "metadata": {},
     "output_type": "execute_result"
    }
   ],
   "source": [
    "gb_model = GradientBoostingClassifier()\n",
    "gb_model.fit(X_train, y_train)"
   ]
  },
  {
   "cell_type": "markdown",
   "metadata": {},
   "source": [
    "### Predict"
   ]
  },
  {
   "cell_type": "code",
   "execution_count": 81,
   "metadata": {},
   "outputs": [],
   "source": [
    "y_pred_gb = gb_model.predict(X_test)"
   ]
  },
  {
   "cell_type": "markdown",
   "metadata": {},
   "source": [
    "### Evaluate"
   ]
  },
  {
   "cell_type": "code",
   "execution_count": 82,
   "metadata": {},
   "outputs": [],
   "source": [
    "precision_gb = precision_score(y_test, y_pred_gb, average='weighted')\n",
    "recall_gb = recall_score(y_test, y_pred_gb, average='weighted')\n",
    "f1_gb = f1_score(y_test, y_pred_gb, average='weighted')"
   ]
  },
  {
   "cell_type": "code",
   "execution_count": 83,
   "metadata": {},
   "outputs": [
    {
     "name": "stdout",
     "output_type": "stream",
     "text": [
      "Precision (weighted): 0.9466856797971029\n",
      "Recall (weighted): 0.9401831711505438\n",
      "F1 Score (weighted): 0.9418893582707455\n"
     ]
    }
   ],
   "source": [
    "print(f\"Precision (weighted): {precision_gb}\")\n",
    "print(f\"Recall (weighted): {recall_gb}\")\n",
    "print(f\"F1 Score (weighted): {f1_gb}\")"
   ]
  },
  {
   "cell_type": "markdown",
   "metadata": {},
   "source": [
    "The Gradient Boosting model performs well with a precision of 0.856, recall of 0.853, and an F1 score of 0.845, indicating a strong balance between correctly identifying sea states and minimizing both false positives and false negatives. These results suggest the model effectively classifies the target variable, generalizing well across the different seastates. It performs better than the Logistical Classification model."
   ]
  },
  {
   "cell_type": "code",
   "execution_count": 84,
   "metadata": {},
   "outputs": [
    {
     "data": {
      "image/png": "[encoded data removed]",
      "text/plain": [
       "<Figure size 800x600 with 2 Axes>"
      ]
     },
     "metadata": {},
     "output_type": "display_data"
    }
   ],
   "source": [
    "cm_gb = confusion_matrix(y_test, y_pred_gb)\n",
    "\n",
    "pyp.figure(figsize=(8, 6))\n",
    "sbn.heatmap(cm_gb, annot=True, fmt='g', cmap='Blues', xticklabels=label_encoder.classes_, yticklabels=label_encoder.classes_)\n",
    "pyp.title('Gradient Boosting - Confusion Matrix')\n",
    "pyp.ylabel('True Label')\n",
    "pyp.xlabel('Predicted Label')\n",
    "pyp.show()"
   ]
  },
  {
   "cell_type": "markdown",
   "metadata": {},
   "source": [
    "This modeled performed better, but still struggles in similar areas as the Linear Classifier. This model is still getting confused between slight and moderate and between slight and smooth."
   ]
  },
  {
   "cell_type": "markdown",
   "metadata": {},
   "source": [
    "### Hyperparameter Tuning"
   ]
  },
  {
   "cell_type": "markdown",
   "metadata": {},
   "source": [
    "The default hyperparameters are unlikely to be the best. I will search across the most influential hyperparameters:\n",
    "\n",
    "- `n_estimators`: The number of boosting stages (trees) to build. More trees can improve performance but may lead to overfitting.\n",
    "- `learning_rate`: The step size for updating weights in each boosting iteration. Lower values make learning more gradual and reduce the risk of overfitting.\n",
    "- `max_depth`: The maximum depth of each decision tree. Deeper trees capture more complex patterns but increase the risk of overfitting.\n",
    "- `min_samples_split`: The minimum number of samples required to split a node. Higher values make the model more conservative, preventing overfitting.\n",
    "\n",
    "I will perform a **grid search** to find the optimal combination of these parameters."
   ]
  },
  {
   "cell_type": "markdown",
   "metadata": {},
   "source": [
    "**WARNING**: this cell make take a while to run.\\\n",
    "**EDIT**: To reduce the computation time of this cell, I'm instead using a random grid search with less cross-validation folds."
   ]
  },
  {
   "cell_type": "code",
   "execution_count": 85,
   "metadata": {},
   "outputs": [
    {
     "name": "stdout",
     "output_type": "stream",
     "text": [
      "Fitting 3 folds for each of 20 candidates, totalling 60 fits\n",
      "[CV] END learning_rate=0.01, max_depth=3, min_samples_split=2, n_estimators=50; total time=   1.9s\n",
      "[CV] END learning_rate=0.05, max_depth=3, min_samples_split=5, n_estimators=50; total time=   1.9s\n",
      "[CV] END learning_rate=0.05, max_depth=3, min_samples_split=5, n_estimators=50; total time=   1.9s\n",
      "[CV] END learning_rate=0.01, max_depth=3, min_samples_split=2, n_estimators=50; total time=   1.9s\n",
      "[CV] END learning_rate=0.05, max_depth=3, min_samples_split=5, n_estimators=50; total time=   2.0s\n",
      "[CV] END learning_rate=0.01, max_depth=3, min_samples_split=2, n_estimators=50; total time=   2.0s\n",
      "[CV] END learning_rate=0.05, max_depth=3, min_samples_split=5, n_estimators=100; total time=   3.0s\n",
      "[CV] END learning_rate=0.05, max_depth=3, min_samples_split=5, n_estimators=100; total time=   3.1s\n",
      "[CV] END learning_rate=0.05, max_depth=3, min_samples_split=5, n_estimators=100; total time=   3.3s\n",
      "[CV] END learning_rate=0.01, max_depth=7, min_samples_split=2, n_estimators=50; total time=   3.3s\n",
      "[CV] END learning_rate=0.01, max_depth=7, min_samples_split=2, n_estimators=50; total time=   3.7s\n",
      "[CV] END learning_rate=0.01, max_depth=7, min_samples_split=5, n_estimators=100; total time=   7.7s\n",
      "[CV] END learning_rate=0.01, max_depth=7, min_samples_split=5, n_estimators=100; total time=   8.1s\n",
      "[CV] END learning_rate=0.05, max_depth=3, min_samples_split=2, n_estimators=100; total time=   4.0s\n",
      "[CV] END learning_rate=0.05, max_depth=3, min_samples_split=2, n_estimators=100; total time=   4.0s\n",
      "[CV] END learning_rate=0.05, max_depth=3, min_samples_split=2, n_estimators=100; total time=   4.0s\n",
      "[CV] END learning_rate=0.01, max_depth=7, min_samples_split=2, n_estimators=50; total time=   4.3s\n",
      "[CV] END learning_rate=0.01, max_depth=7, min_samples_split=5, n_estimators=100; total time=   8.3s\n",
      "[CV] END learning_rate=0.01, max_depth=5, min_samples_split=2, n_estimators=100; total time=   6.1s\n",
      "[CV] END learning_rate=0.01, max_depth=3, min_samples_split=5, n_estimators=100; total time=   3.9s\n",
      "[CV] END learning_rate=0.01, max_depth=5, min_samples_split=2, n_estimators=100; total time=   6.5s\n",
      "[CV] END learning_rate=0.01, max_depth=5, min_samples_split=2, n_estimators=100; total time=   6.3s\n",
      "[CV] END learning_rate=0.01, max_depth=3, min_samples_split=5, n_estimators=100; total time=   4.2s\n",
      "[CV] END learning_rate=0.1, max_depth=5, min_samples_split=10, n_estimators=100; total time=   6.6s\n",
      "[CV] END learning_rate=0.1, max_depth=5, min_samples_split=10, n_estimators=100; total time=   6.7s\n",
      "[CV] END learning_rate=0.01, max_depth=3, min_samples_split=5, n_estimators=100; total time=   4.3s\n",
      "[CV] END learning_rate=0.1, max_depth=5, min_samples_split=10, n_estimators=100; total time=   7.1s\n",
      "[CV] END learning_rate=0.01, max_depth=5, min_samples_split=5, n_estimators=50; total time=   3.1s\n",
      "[CV] END learning_rate=0.01, max_depth=5, min_samples_split=5, n_estimators=50; total time=   3.2s\n",
      "[CV] END learning_rate=0.01, max_depth=5, min_samples_split=5, n_estimators=50; total time=   3.0s\n",
      "[CV] END learning_rate=0.05, max_depth=3, min_samples_split=10, n_estimators=50; total time=   1.7s\n",
      "[CV] END learning_rate=0.05, max_depth=3, min_samples_split=10, n_estimators=50; total time=   1.8s\n",
      "[CV] END learning_rate=0.05, max_depth=3, min_samples_split=10, n_estimators=50; total time=   1.7s\n",
      "[CV] END learning_rate=0.05, max_depth=7, min_samples_split=5, n_estimators=100; total time=   8.1s\n",
      "[CV] END learning_rate=0.1, max_depth=5, min_samples_split=5, n_estimators=100; total time=   5.7s\n",
      "[CV] END learning_rate=0.05, max_depth=3, min_samples_split=10, n_estimators=150; total time=   5.2s\n",
      "[CV] END learning_rate=0.1, max_depth=5, min_samples_split=5, n_estimators=100; total time=   5.9s\n",
      "[CV] END learning_rate=0.05, max_depth=3, min_samples_split=10, n_estimators=150; total time=   5.3s\n",
      "[CV] END learning_rate=0.1, max_depth=5, min_samples_split=5, n_estimators=100; total time=   6.0s\n",
      "[CV] END learning_rate=0.05, max_depth=7, min_samples_split=5, n_estimators=100; total time=   8.4s\n",
      "[CV] END learning_rate=0.05, max_depth=7, min_samples_split=5, n_estimators=100; total time=   8.3s\n",
      "[CV] END learning_rate=0.05, max_depth=7, min_samples_split=2, n_estimators=50; total time=   3.6s\n",
      "[CV] END learning_rate=0.05, max_depth=3, min_samples_split=10, n_estimators=150; total time=   4.8s\n",
      "[CV] END learning_rate=0.05, max_depth=7, min_samples_split=2, n_estimators=50; total time=   3.7s\n",
      "[CV] END learning_rate=0.05, max_depth=7, min_samples_split=2, n_estimators=50; total time=   3.7s\n",
      "[CV] END learning_rate=0.1, max_depth=3, min_samples_split=10, n_estimators=100; total time=   3.0s\n",
      "[CV] END learning_rate=0.1, max_depth=5, min_samples_split=5, n_estimators=150; total time=   7.5s\n",
      "[CV] END learning_rate=0.1, max_depth=3, min_samples_split=10, n_estimators=100; total time=   3.1s\n",
      "[CV] END learning_rate=0.1, max_depth=5, min_samples_split=5, n_estimators=150; total time=   8.0s\n",
      "[CV] END learning_rate=0.1, max_depth=5, min_samples_split=5, n_estimators=150; total time=   7.9s\n",
      "[CV] END learning_rate=0.1, max_depth=7, min_samples_split=2, n_estimators=100; total time=   7.2s\n",
      "[CV] END learning_rate=0.1, max_depth=3, min_samples_split=2, n_estimators=100; total time=   2.9s\n",
      "[CV] END learning_rate=0.1, max_depth=3, min_samples_split=10, n_estimators=100; total time=   3.2s\n",
      "[CV] END learning_rate=0.1, max_depth=3, min_samples_split=2, n_estimators=100; total time=   3.1s\n",
      "[CV] END learning_rate=0.1, max_depth=3, min_samples_split=2, n_estimators=100; total time=   3.1s\n",
      "[CV] END learning_rate=0.1, max_depth=7, min_samples_split=2, n_estimators=100; total time=   7.7s\n",
      "[CV] END learning_rate=0.1, max_depth=7, min_samples_split=2, n_estimators=100; total time=   7.5s\n",
      "[CV] END learning_rate=0.05, max_depth=5, min_samples_split=5, n_estimators=100; total time=   4.5s\n",
      "[CV] END learning_rate=0.05, max_depth=5, min_samples_split=5, n_estimators=100; total time=   4.6s\n",
      "[CV] END learning_rate=0.05, max_depth=5, min_samples_split=5, n_estimators=100; total time=   4.0s\n",
      "Best hyperparameters: {'n_estimators': 150, 'min_samples_split': 5, 'max_depth': 5, 'learning_rate': 0.1}\n"
     ]
    }
   ],
   "source": [
    "# Define the model\n",
    "gb_model = GradientBoostingClassifier()\n",
    "\n",
    "# Define the hyperparameters for grid search\n",
    "param_grid = {\n",
    "    'n_estimators': [50, 100, 150],\n",
    "    'learning_rate': [0.01, 0.05, 0.1],\n",
    "    'max_depth': [3, 5, 7],\n",
    "    'min_samples_split': [2, 5, 10]\n",
    "}\n",
    "\n",
    "# Set up the GridSearchCV\n",
    "grid_search = RandomizedSearchCV(estimator=gb_model, \n",
    "                           param_distributions=param_grid, \n",
    "                           n_iter=20,\n",
    "                           cv=3, \n",
    "                           scoring='accuracy', \n",
    "                           n_jobs=-1, \n",
    "                           verbose=2,\n",
    "                           random_state=42)\n",
    "\n",
    "# Fit the model with grid search\n",
    "grid_search.fit(X_train, y_train)\n",
    "\n",
    "# Best parameters found by GridSearchCV\n",
    "best_params = grid_search.best_params_\n",
    "print(f\"Best hyperparameters: {best_params}\")"
   ]
  },
  {
   "cell_type": "code",
   "execution_count": 86,
   "metadata": {},
   "outputs": [],
   "source": [
    "y_pred = grid_search.predict(X_test)"
   ]
  },
  {
   "cell_type": "code",
   "execution_count": 87,
   "metadata": {},
   "outputs": [],
   "source": [
    "precision = precision_score(y_test, y_pred, average='weighted')\n",
    "recall = recall_score(y_test, y_pred, average='weighted')\n",
    "f1 = f1_score(y_test, y_pred, average='weighted')\n",
    "cm = confusion_matrix(y_test, y_pred)"
   ]
  },
  {
   "cell_type": "code",
   "execution_count": 88,
   "metadata": {},
   "outputs": [
    {
     "name": "stdout",
     "output_type": "stream",
     "text": [
      "Precision (weighted): 0.9471378115073927\n",
      "Recall (weighted): 0.9401831711505438\n",
      "F1 Score (weighted): 0.9419041713870797\n"
     ]
    }
   ],
   "source": [
    "print(f\"Precision (weighted): {precision}\")\n",
    "print(f\"Recall (weighted): {recall}\")\n",
    "print(f\"F1 Score (weighted): {f1}\")"
   ]
  },
  {
   "cell_type": "code",
   "execution_count": 89,
   "metadata": {},
   "outputs": [
    {
     "data": {
      "image/png": "[encoded data removed]",
      "text/plain": [
       "<Figure size 800x600 with 2 Axes>"
      ]
     },
     "metadata": {},
     "output_type": "display_data"
    }
   ],
   "source": [
    "pyp.figure(figsize=(8, 6))\n",
    "sbn.heatmap(cm, annot=True, fmt='g', cmap='Blues', xticklabels=label_encoder.classes_, yticklabels=label_encoder.classes_)\n",
    "pyp.title('Tuned Gradient Boosting - Confusion Matrix')\n",
    "pyp.xlabel('Predicted')\n",
    "pyp.ylabel('Actual')\n",
    "pyp.show()"
   ]
  },
  {
   "cell_type": "markdown",
   "metadata": {},
   "source": [
    "## Support Vector Classification (SVC)"
   ]
  },
  {
   "cell_type": "markdown",
   "metadata": {},
   "source": [
    "Even with hyperparameter tuning, the GB model still is having problems with the same categories. I'll finally try an SVM classification model. This model might be advantageous because of it's unique kernels which helps it handle non-linear data."
   ]
  },
  {
   "cell_type": "markdown",
   "metadata": {},
   "source": [
    "### Training"
   ]
  },
  {
   "cell_type": "code",
   "execution_count": 90,
   "metadata": {},
   "outputs": [
    {
     "data": {
      "text/html": [
       "<style>#sk-container-id-6 {\n",
       "  /* Definition of color scheme common for light and dark mode */\n",
       "  --sklearn-color-text: #000;\n",
       "  --sklearn-color-text-muted: #666;\n",
       "  --sklearn-color-line: gray;\n",
       "  /* Definition of color scheme for unfitted estimators */\n",
       "  --sklearn-color-unfitted-level-0: #fff5e6;\n",
       "  --sklearn-color-unfitted-level-1: #f6e4d2;\n",
       "  --sklearn-color-unfitted-level-2: #ffe0b3;\n",
       "  --sklearn-color-unfitted-level-3: chocolate;\n",
       "  /* Definition of color scheme for fitted estimators */\n",
       "  --sklearn-color-fitted-level-0: #f0f8ff;\n",
       "  --sklearn-color-fitted-level-1: #d4ebff;\n",
       "  --sklearn-color-fitted-level-2: #b3dbfd;\n",
       "  --sklearn-color-fitted-level-3: cornflowerblue;\n",
       "\n",
       "  /* Specific color for light theme */\n",
       "  --sklearn-color-text-on-default-background: var(--sg-text-color, var(--theme-code-foreground, var(--jp-content-font-color1, black)));\n",
       "  --sklearn-color-background: var(--sg-background-color, var(--theme-background, var(--jp-layout-color0, white)));\n",
       "  --sklearn-color-border-box: var(--sg-text-color, var(--theme-code-foreground, var(--jp-content-font-color1, black)));\n",
       "  --sklearn-color-icon: #696969;\n",
       "\n",
       "  @media (prefers-color-scheme: dark) {\n",
       "    /* Redefinition of color scheme for dark theme */\n",
       "    --sklearn-color-text-on-default-background: var(--sg-text-color, var(--theme-code-foreground, var(--jp-content-font-color1, white)));\n",
       "    --sklearn-color-background: var(--sg-background-color, var(--theme-background, var(--jp-layout-color0, #111)));\n",
       "    --sklearn-color-border-box: var(--sg-text-color, var(--theme-code-foreground, var(--jp-content-font-color1, white)));\n",
       "    --sklearn-color-icon: #878787;\n",
       "  }\n",
       "}\n",
       "\n",
       "#sk-container-id-6 {\n",
       "  color: var(--sklearn-color-text);\n",
       "}\n",
       "\n",
       "#sk-container-id-6 pre {\n",
       "  padding: 0;\n",
       "}\n",
       "\n",
       "#sk-container-id-6 input.sk-hidden--visually {\n",
       "  border: 0;\n",
       "  clip: rect(1px 1px 1px 1px);\n",
       "  clip: rect(1px, 1px, 1px, 1px);\n",
       "  height: 1px;\n",
       "  margin: -1px;\n",
       "  overflow: hidden;\n",
       "  padding: 0;\n",
       "  position: absolute;\n",
       "  width: 1px;\n",
       "}\n",
       "\n",
       "#sk-container-id-6 div.sk-dashed-wrapped {\n",
       "  border: 1px dashed var(--sklearn-color-line);\n",
       "  margin: 0 0.4em 0.5em 0.4em;\n",
       "  box-sizing: border-box;\n",
       "  padding-bottom: 0.4em;\n",
       "  background-color: var(--sklearn-color-background);\n",
       "}\n",
       "\n",
       "#sk-container-id-6 div.sk-container {\n",
       "  /* jupyter's `normalize.less` sets `[hidden] { display: none; }`\n",
       "     but bootstrap.min.css set `[hidden] { display: none !important; }`\n",
       "     so we also need the `!important` here to be able to override the\n",
       "     default hidden behavior on the sphinx rendered scikit-learn.org.\n",
       "     See: https://github.com/scikit-learn/scikit-learn/issues/21755 */\n",
       "  display: inline-block !important;\n",
       "  position: relative;\n",
       "}\n",
       "\n",
       "#sk-container-id-6 div.sk-text-repr-fallback {\n",
       "  display: none;\n",
       "}\n",
       "\n",
       "div.sk-parallel-item,\n",
       "div.sk-serial,\n",
       "div.sk-item {\n",
       "  /* draw centered vertical line to link estimators */\n",
       "  background-image: linear-gradient(var(--sklearn-color-text-on-default-background), var(--sklearn-color-text-on-default-background));\n",
       "  background-size: 2px 100%;\n",
       "  background-repeat: no-repeat;\n",
       "  background-position: center center;\n",
       "}\n",
       "\n",
       "/* Parallel-specific style estimator block */\n",
       "\n",
       "#sk-container-id-6 div.sk-parallel-item::after {\n",
       "  content: \"\";\n",
       "  width: 100%;\n",
       "  border-bottom: 2px solid var(--sklearn-color-text-on-default-background);\n",
       "  flex-grow: 1;\n",
       "}\n",
       "\n",
       "#sk-container-id-6 div.sk-parallel {\n",
       "  display: flex;\n",
       "  align-items: stretch;\n",
       "  justify-content: center;\n",
       "  background-color: var(--sklearn-color-background);\n",
       "  position: relative;\n",
       "}\n",
       "\n",
       "#sk-container-id-6 div.sk-parallel-item {\n",
       "  display: flex;\n",
       "  flex-direction: column;\n",
       "}\n",
       "\n",
       "#sk-container-id-6 div.sk-parallel-item:first-child::after {\n",
       "  align-self: flex-end;\n",
       "  width: 50%;\n",
       "}\n",
       "\n",
       "#sk-container-id-6 div.sk-parallel-item:last-child::after {\n",
       "  align-self: flex-start;\n",
       "  width: 50%;\n",
       "}\n",
       "\n",
       "#sk-container-id-6 div.sk-parallel-item:only-child::after {\n",
       "  width: 0;\n",
       "}\n",
       "\n",
       "/* Serial-specific style estimator block */\n",
       "\n",
       "#sk-container-id-6 div.sk-serial {\n",
       "  display: flex;\n",
       "  flex-direction: column;\n",
       "  align-items: center;\n",
       "  background-color: var(--sklearn-color-background);\n",
       "  padding-right: 1em;\n",
       "  padding-left: 1em;\n",
       "}\n",
       "\n",
       "\n",
       "/* Toggleable style: style used for estimator/Pipeline/ColumnTransformer box that is\n",
       "clickable and can be expanded/collapsed.\n",
       "- Pipeline and ColumnTransformer use this feature and define the default style\n",
       "- Estimators will overwrite some part of the style using the `sk-estimator` class\n",
       "*/\n",
       "\n",
       "/* Pipeline and ColumnTransformer style (default) */\n",
       "\n",
       "#sk-container-id-6 div.sk-toggleable {\n",
       "  /* Default theme specific background. It is overwritten whether we have a\n",
       "  specific estimator or a Pipeline/ColumnTransformer */\n",
       "  background-color: var(--sklearn-color-background);\n",
       "}\n",
       "\n",
       "/* Toggleable label */\n",
       "#sk-container-id-6 label.sk-toggleable__label {\n",
       "  cursor: pointer;\n",
       "  display: flex;\n",
       "  width: 100%;\n",
       "  margin-bottom: 0;\n",
       "  padding: 0.5em;\n",
       "  box-sizing: border-box;\n",
       "  text-align: center;\n",
       "  align-items: start;\n",
       "  justify-content: space-between;\n",
       "  gap: 0.5em;\n",
       "}\n",
       "\n",
       "#sk-container-id-6 label.sk-toggleable__label .caption {\n",
       "  font-size: 0.6rem;\n",
       "  font-weight: lighter;\n",
       "  color: var(--sklearn-color-text-muted);\n",
       "}\n",
       "\n",
       "#sk-container-id-6 label.sk-toggleable__label-arrow:before {\n",
       "  /* Arrow on the left of the label */\n",
       "  content: \"▸\";\n",
       "  float: left;\n",
       "  margin-right: 0.25em;\n",
       "  color: var(--sklearn-color-icon);\n",
       "}\n",
       "\n",
       "#sk-container-id-6 label.sk-toggleable__label-arrow:hover:before {\n",
       "  color: var(--sklearn-color-text);\n",
       "}\n",
       "\n",
       "/* Toggleable content - dropdown */\n",
       "\n",
       "#sk-container-id-6 div.sk-toggleable__content {\n",
       "  max-height: 0;\n",
       "  max-width: 0;\n",
       "  overflow: hidden;\n",
       "  text-align: left;\n",
       "  /* unfitted */\n",
       "  background-color: var(--sklearn-color-unfitted-level-0);\n",
       "}\n",
       "\n",
       "#sk-container-id-6 div.sk-toggleable__content.fitted {\n",
       "  /* fitted */\n",
       "  background-color: var(--sklearn-color-fitted-level-0);\n",
       "}\n",
       "\n",
       "#sk-container-id-6 div.sk-toggleable__content pre {\n",
       "  margin: 0.2em;\n",
       "  border-radius: 0.25em;\n",
       "  color: var(--sklearn-color-text);\n",
       "  /* unfitted */\n",
       "  background-color: var(--sklearn-color-unfitted-level-0);\n",
       "}\n",
       "\n",
       "#sk-container-id-6 div.sk-toggleable__content.fitted pre {\n",
       "  /* unfitted */\n",
       "  background-color: var(--sklearn-color-fitted-level-0);\n",
       "}\n",
       "\n",
       "#sk-container-id-6 input.sk-toggleable__control:checked~div.sk-toggleable__content {\n",
       "  /* Expand drop-down */\n",
       "  max-height: 200px;\n",
       "  max-width: 100%;\n",
       "  overflow: auto;\n",
       "}\n",
       "\n",
       "#sk-container-id-6 input.sk-toggleable__control:checked~label.sk-toggleable__label-arrow:before {\n",
       "  content: \"▾\";\n",
       "}\n",
       "\n",
       "/* Pipeline/ColumnTransformer-specific style */\n",
       "\n",
       "#sk-container-id-6 div.sk-label input.sk-toggleable__control:checked~label.sk-toggleable__label {\n",
       "  color: var(--sklearn-color-text);\n",
       "  background-color: var(--sklearn-color-unfitted-level-2);\n",
       "}\n",
       "\n",
       "#sk-container-id-6 div.sk-label.fitted input.sk-toggleable__control:checked~label.sk-toggleable__label {\n",
       "  background-color: var(--sklearn-color-fitted-level-2);\n",
       "}\n",
       "\n",
       "/* Estimator-specific style */\n",
       "\n",
       "/* Colorize estimator box */\n",
       "#sk-container-id-6 div.sk-estimator input.sk-toggleable__control:checked~label.sk-toggleable__label {\n",
       "  /* unfitted */\n",
       "  background-color: var(--sklearn-color-unfitted-level-2);\n",
       "}\n",
       "\n",
       "#sk-container-id-6 div.sk-estimator.fitted input.sk-toggleable__control:checked~label.sk-toggleable__label {\n",
       "  /* fitted */\n",
       "  background-color: var(--sklearn-color-fitted-level-2);\n",
       "}\n",
       "\n",
       "#sk-container-id-6 div.sk-label label.sk-toggleable__label,\n",
       "#sk-container-id-6 div.sk-label label {\n",
       "  /* The background is the default theme color */\n",
       "  color: var(--sklearn-color-text-on-default-background);\n",
       "}\n",
       "\n",
       "/* On hover, darken the color of the background */\n",
       "#sk-container-id-6 div.sk-label:hover label.sk-toggleable__label {\n",
       "  color: var(--sklearn-color-text);\n",
       "  background-color: var(--sklearn-color-unfitted-level-2);\n",
       "}\n",
       "\n",
       "/* Label box, darken color on hover, fitted */\n",
       "#sk-container-id-6 div.sk-label.fitted:hover label.sk-toggleable__label.fitted {\n",
       "  color: var(--sklearn-color-text);\n",
       "  background-color: var(--sklearn-color-fitted-level-2);\n",
       "}\n",
       "\n",
       "/* Estimator label */\n",
       "\n",
       "#sk-container-id-6 div.sk-label label {\n",
       "  font-family: monospace;\n",
       "  font-weight: bold;\n",
       "  display: inline-block;\n",
       "  line-height: 1.2em;\n",
       "}\n",
       "\n",
       "#sk-container-id-6 div.sk-label-container {\n",
       "  text-align: center;\n",
       "}\n",
       "\n",
       "/* Estimator-specific */\n",
       "#sk-container-id-6 div.sk-estimator {\n",
       "  font-family: monospace;\n",
       "  border: 1px dotted var(--sklearn-color-border-box);\n",
       "  border-radius: 0.25em;\n",
       "  box-sizing: border-box;\n",
       "  margin-bottom: 0.5em;\n",
       "  /* unfitted */\n",
       "  background-color: var(--sklearn-color-unfitted-level-0);\n",
       "}\n",
       "\n",
       "#sk-container-id-6 div.sk-estimator.fitted {\n",
       "  /* fitted */\n",
       "  background-color: var(--sklearn-color-fitted-level-0);\n",
       "}\n",
       "\n",
       "/* on hover */\n",
       "#sk-container-id-6 div.sk-estimator:hover {\n",
       "  /* unfitted */\n",
       "  background-color: var(--sklearn-color-unfitted-level-2);\n",
       "}\n",
       "\n",
       "#sk-container-id-6 div.sk-estimator.fitted:hover {\n",
       "  /* fitted */\n",
       "  background-color: var(--sklearn-color-fitted-level-2);\n",
       "}\n",
       "\n",
       "/* Specification for estimator info (e.g. \"i\" and \"?\") */\n",
       "\n",
       "/* Common style for \"i\" and \"?\" */\n",
       "\n",
       ".sk-estimator-doc-link,\n",
       "a:link.sk-estimator-doc-link,\n",
       "a:visited.sk-estimator-doc-link {\n",
       "  float: right;\n",
       "  font-size: smaller;\n",
       "  line-height: 1em;\n",
       "  font-family: monospace;\n",
       "  background-color: var(--sklearn-color-background);\n",
       "  border-radius: 1em;\n",
       "  height: 1em;\n",
       "  width: 1em;\n",
       "  text-decoration: none !important;\n",
       "  margin-left: 0.5em;\n",
       "  text-align: center;\n",
       "  /* unfitted */\n",
       "  border: var(--sklearn-color-unfitted-level-1) 1pt solid;\n",
       "  color: var(--sklearn-color-unfitted-level-1);\n",
       "}\n",
       "\n",
       ".sk-estimator-doc-link.fitted,\n",
       "a:link.sk-estimator-doc-link.fitted,\n",
       "a:visited.sk-estimator-doc-link.fitted {\n",
       "  /* fitted */\n",
       "  border: var(--sklearn-color-fitted-level-1) 1pt solid;\n",
       "  color: var(--sklearn-color-fitted-level-1);\n",
       "}\n",
       "\n",
       "/* On hover */\n",
       "div.sk-estimator:hover .sk-estimator-doc-link:hover,\n",
       ".sk-estimator-doc-link:hover,\n",
       "div.sk-label-container:hover .sk-estimator-doc-link:hover,\n",
       ".sk-estimator-doc-link:hover {\n",
       "  /* unfitted */\n",
       "  background-color: var(--sklearn-color-unfitted-level-3);\n",
       "  color: var(--sklearn-color-background);\n",
       "  text-decoration: none;\n",
       "}\n",
       "\n",
       "div.sk-estimator.fitted:hover .sk-estimator-doc-link.fitted:hover,\n",
       ".sk-estimator-doc-link.fitted:hover,\n",
       "div.sk-label-container:hover .sk-estimator-doc-link.fitted:hover,\n",
       ".sk-estimator-doc-link.fitted:hover {\n",
       "  /* fitted */\n",
       "  background-color: var(--sklearn-color-fitted-level-3);\n",
       "  color: var(--sklearn-color-background);\n",
       "  text-decoration: none;\n",
       "}\n",
       "\n",
       "/* Span, style for the box shown on hovering the info icon */\n",
       ".sk-estimator-doc-link span {\n",
       "  display: none;\n",
       "  z-index: 9999;\n",
       "  position: relative;\n",
       "  font-weight: normal;\n",
       "  right: .2ex;\n",
       "  padding: .5ex;\n",
       "  margin: .5ex;\n",
       "  width: min-content;\n",
       "  min-width: 20ex;\n",
       "  max-width: 50ex;\n",
       "  color: var(--sklearn-color-text);\n",
       "  box-shadow: 2pt 2pt 4pt #999;\n",
       "  /* unfitted */\n",
       "  background: var(--sklearn-color-unfitted-level-0);\n",
       "  border: .5pt solid var(--sklearn-color-unfitted-level-3);\n",
       "}\n",
       "\n",
       ".sk-estimator-doc-link.fitted span {\n",
       "  /* fitted */\n",
       "  background: var(--sklearn-color-fitted-level-0);\n",
       "  border: var(--sklearn-color-fitted-level-3);\n",
       "}\n",
       "\n",
       ".sk-estimator-doc-link:hover span {\n",
       "  display: block;\n",
       "}\n",
       "\n",
       "/* \"?\"-specific style due to the `<a>` HTML tag */\n",
       "\n",
       "#sk-container-id-6 a.estimator_doc_link {\n",
       "  float: right;\n",
       "  font-size: 1rem;\n",
       "  line-height: 1em;\n",
       "  font-family: monospace;\n",
       "  background-color: var(--sklearn-color-background);\n",
       "  border-radius: 1rem;\n",
       "  height: 1rem;\n",
       "  width: 1rem;\n",
       "  text-decoration: none;\n",
       "  /* unfitted */\n",
       "  color: var(--sklearn-color-unfitted-level-1);\n",
       "  border: var(--sklearn-color-unfitted-level-1) 1pt solid;\n",
       "}\n",
       "\n",
       "#sk-container-id-6 a.estimator_doc_link.fitted {\n",
       "  /* fitted */\n",
       "  border: var(--sklearn-color-fitted-level-1) 1pt solid;\n",
       "  color: var(--sklearn-color-fitted-level-1);\n",
       "}\n",
       "\n",
       "/* On hover */\n",
       "#sk-container-id-6 a.estimator_doc_link:hover {\n",
       "  /* unfitted */\n",
       "  background-color: var(--sklearn-color-unfitted-level-3);\n",
       "  color: var(--sklearn-color-background);\n",
       "  text-decoration: none;\n",
       "}\n",
       "\n",
       "#sk-container-id-6 a.estimator_doc_link.fitted:hover {\n",
       "  /* fitted */\n",
       "  background-color: var(--sklearn-color-fitted-level-3);\n",
       "}\n",
       "</style><div id=\"sk-container-id-6\" class=\"sk-top-container\"><div class=\"sk-text-repr-fallback\"><pre>SVC(kernel=&#x27;linear&#x27;)</pre><b>In a Jupyter environment, please rerun this cell to show the HTML representation or trust the notebook. <br />On GitHub, the HTML representation is unable to render, please try loading this page with nbviewer.org.</b></div><div class=\"sk-container\" hidden><div class=\"sk-item\"><div class=\"sk-estimator fitted sk-toggleable\"><input class=\"sk-toggleable__control sk-hidden--visually\" id=\"sk-estimator-id-6\" type=\"checkbox\" checked><label for=\"sk-estimator-id-6\" class=\"sk-toggleable__label fitted sk-toggleable__label-arrow\"><div><div>SVC</div></div><div><a class=\"sk-estimator-doc-link fitted\" rel=\"noreferrer\" target=\"_blank\" href=\"https://scikit-learn.org/1.6/modules/generated/sklearn.svm.SVC.html\">?<span>Documentation for SVC</span></a><span class=\"sk-estimator-doc-link fitted\">i<span>Fitted</span></span></div></label><div class=\"sk-toggleable__content fitted\"><pre>SVC(kernel=&#x27;linear&#x27;)</pre></div> </div></div></div></div>"
      ],
      "text/plain": [
       "SVC(kernel='linear')"
      ]
     },
     "execution_count": 90,
     "metadata": {},
     "output_type": "execute_result"
    }
   ],
   "source": [
    "svm_model = SVC(kernel='linear')\n",
    "svm_model.fit(X_train, y_train)"
   ]
  },
  {
   "cell_type": "markdown",
   "metadata": {},
   "source": [
    "### Predicting"
   ]
  },
  {
   "cell_type": "code",
   "execution_count": 91,
   "metadata": {},
   "outputs": [],
   "source": [
    "y_pred = svm_model.predict(X_test)"
   ]
  },
  {
   "cell_type": "markdown",
   "metadata": {},
   "source": [
    "### Evaluation"
   ]
  },
  {
   "cell_type": "code",
   "execution_count": 92,
   "metadata": {},
   "outputs": [
    {
     "name": "stderr",
     "output_type": "stream",
     "text": [
      "/Users/colin_beyers@mines.edu/miniconda3/envs/test/lib/python3.12/site-packages/sklearn/metrics/_classification.py:1565: UndefinedMetricWarning: Precision is ill-defined and being set to 0.0 in labels with no predicted samples. Use `zero_division` parameter to control this behavior.\n",
      "  _warn_prf(average, modifier, f\"{metric.capitalize()} is\", len(result))\n"
     ]
    }
   ],
   "source": [
    "precision = precision_score(y_test, y_pred, average='weighted')\n",
    "recall = recall_score(y_test, y_pred, average='weighted')\n",
    "f1 = f1_score(y_test, y_pred, average='weighted')\n",
    "cm = confusion_matrix(y_test, y_pred)"
   ]
  },
  {
   "cell_type": "code",
   "execution_count": 93,
   "metadata": {},
   "outputs": [
    {
     "name": "stdout",
     "output_type": "stream",
     "text": [
      "Precision (weighted): 0.8182714237289909\n",
      "Recall (weighted): 0.8405838580423584\n",
      "F1 Score (weighted): 0.8261916725960328\n"
     ]
    }
   ],
   "source": [
    "print(\"Precision (weighted):\", precision)\n",
    "print(\"Recall (weighted):\", recall)\n",
    "print(\"F1 Score (weighted):\", f1)"
   ]
  },
  {
   "cell_type": "code",
   "execution_count": 94,
   "metadata": {},
   "outputs": [
    {
     "data": {
      "image/png": "[encoded data removed]",
      "text/plain": [
       "<Figure size 800x600 with 2 Axes>"
      ]
     },
     "metadata": {},
     "output_type": "display_data"
    }
   ],
   "source": [
    "pyp.figure(figsize=(8, 6))\n",
    "sbn.heatmap(cm, annot=True, fmt='g', cmap='Blues', xticklabels=label_encoder.classes_, yticklabels=label_encoder.classes_)\n",
    "pyp.title('SVC - Confusion Matrix')\n",
    "pyp.xlabel('Predicted')\n",
    "pyp.ylabel('Actual')\n",
    "pyp.show()"
   ]
  },
  {
   "cell_type": "markdown",
   "metadata": {},
   "source": [
    "### Hyperparameter Tuning"
   ]
  },
  {
   "cell_type": "markdown",
   "metadata": {},
   "source": [
    "Again, the default parameters are likely not ideal. I will test the following parameters:\n",
    "\n",
    "- `kernel`: Defines the function used to map data into a higher-dimensional space. Common options include `'linear'`, `'poly'`, `'rbf'`, and `'sigmoid'`. The choice affects the model's ability to capture complex patterns.\n",
    "- `C`: The regularization parameter, which controls the trade-off between achieving a low error and maintaining a simple decision boundary. Higher values make the model more sensitive to training data.\n",
    "- `gamma`: Controls the influence of a single training example. Higher values lead to more complex decision boundaries, while lower values create a smoother model.\n",
    "\n",
    "I will perform a **grid search** to find the optimal combination of these parameters."
   ]
  },
  {
   "cell_type": "markdown",
   "metadata": {},
   "source": [
    "**Note**: This grid search was not changed because it is taking me > 1 min to run."
   ]
  },
  {
   "cell_type": "code",
   "execution_count": 95,
   "metadata": {},
   "outputs": [
    {
     "name": "stdout",
     "output_type": "stream",
     "text": [
      "Fitting 5 folds for each of 36 candidates, totalling 180 fits\n",
      "[CV] END ..................C=0.1, gamma=scale, kernel=linear; total time=   0.8s\n",
      "[CV] END ..................C=0.1, gamma=scale, kernel=linear; total time=   0.8s\n",
      "[CV] END ..................C=0.1, gamma=scale, kernel=linear; total time=   0.8s\n",
      "[CV] END ..................C=0.1, gamma=scale, kernel=linear; total time=   0.8s\n",
      "[CV] END ..................C=0.1, gamma=scale, kernel=linear; total time=   0.9s\n",
      "[CV] END .....................C=0.1, gamma=scale, kernel=rbf; total time=   1.5s\n",
      "[CV] END .....................C=0.1, gamma=scale, kernel=rbf; total time=   1.6s\n",
      "[CV] END .....................C=0.1, gamma=scale, kernel=rbf; total time=   1.6s\n",
      "[CV] END ....................C=0.1, gamma=scale, kernel=poly; total time=   1.2s\n",
      "[CV] END ....................C=0.1, gamma=scale, kernel=poly; total time=   1.4s\n",
      "[CV] END ....................C=0.1, gamma=scale, kernel=poly; total time=   1.4s\n",
      "[CV] END .....................C=0.1, gamma=scale, kernel=rbf; total time=   1.6s\n",
      "[CV] END .....................C=0.1, gamma=scale, kernel=rbf; total time=   1.6s\n",
      "[CV] END ...................C=0.1, gamma=auto, kernel=linear; total time=   0.7s\n",
      "[CV] END ...................C=0.1, gamma=auto, kernel=linear; total time=   0.8s\n",
      "[CV] END ....................C=0.1, gamma=scale, kernel=poly; total time=   1.4s\n",
      "[CV] END ....................C=0.1, gamma=scale, kernel=poly; total time=   1.3s\n",
      "[CV] END ...................C=0.1, gamma=auto, kernel=linear; total time=   0.8s\n",
      "[CV] END ...................C=0.1, gamma=auto, kernel=linear; total time=   0.8s\n",
      "[CV] END ...................C=0.1, gamma=auto, kernel=linear; total time=   0.8s\n",
      "[CV] END ......................C=0.1, gamma=auto, kernel=rbf; total time=   1.6s\n",
      "[CV] END ......................C=0.1, gamma=auto, kernel=rbf; total time=   1.7s\n",
      "[CV] END ......................C=0.1, gamma=auto, kernel=rbf; total time=   1.7s\n",
      "[CV] END .....................C=0.1, gamma=auto, kernel=poly; total time=   1.5s\n",
      "[CV] END .....................C=0.1, gamma=auto, kernel=poly; total time=   1.5s\n",
      "[CV] END ......................C=0.1, gamma=auto, kernel=rbf; total time=   1.8s\n",
      "[CV] END ......................C=0.1, gamma=auto, kernel=rbf; total time=   1.8s\n",
      "[CV] END .....................C=0.1, gamma=auto, kernel=poly; total time=   1.7s\n",
      "[CV] END ....................C=0.1, gamma=0.1, kernel=linear; total time=   0.8s\n",
      "[CV] END ....................C=0.1, gamma=0.1, kernel=linear; total time=   0.8s\n",
      "[CV] END ....................C=0.1, gamma=0.1, kernel=linear; total time=   0.8s\n",
      "[CV] END ....................C=0.1, gamma=0.1, kernel=linear; total time=   0.8s\n",
      "[CV] END .....................C=0.1, gamma=auto, kernel=poly; total time=   1.3s\n",
      "[CV] END .....................C=0.1, gamma=auto, kernel=poly; total time=   1.4s\n",
      "[CV] END ....................C=0.1, gamma=0.1, kernel=linear; total time=   0.8s\n",
      "[CV] END .......................C=0.1, gamma=0.1, kernel=rbf; total time=   1.8s\n",
      "[CV] END .......................C=0.1, gamma=0.1, kernel=rbf; total time=   1.8s\n",
      "[CV] END .......................C=0.1, gamma=0.1, kernel=rbf; total time=   1.7s\n",
      "[CV] END .......................C=0.1, gamma=0.1, kernel=rbf; total time=   1.7s\n",
      "[CV] END .......................C=0.1, gamma=0.1, kernel=rbf; total time=   1.8s\n",
      "[CV] END ......................C=0.1, gamma=0.1, kernel=poly; total time=   2.0s\n",
      "[CV] END ......................C=0.1, gamma=0.1, kernel=poly; total time=   2.0s\n",
      "[CV] END ......................C=0.1, gamma=0.1, kernel=poly; total time=   2.0s\n",
      "[CV] END ......................C=0.1, gamma=1, kernel=linear; total time=   0.8s\n",
      "[CV] END ......................C=0.1, gamma=1, kernel=linear; total time=   0.9s\n",
      "[CV] END ......................C=0.1, gamma=1, kernel=linear; total time=   0.9s\n",
      "[CV] END ......................C=0.1, gamma=1, kernel=linear; total time=   0.8s\n",
      "[CV] END ......................C=0.1, gamma=1, kernel=linear; total time=   0.8s\n",
      "[CV] END ......................C=0.1, gamma=0.1, kernel=poly; total time=   2.1s\n",
      "[CV] END ......................C=0.1, gamma=0.1, kernel=poly; total time=   2.0s\n",
      "[CV] END .........................C=0.1, gamma=1, kernel=rbf; total time=   1.5s\n",
      "[CV] END ........................C=0.1, gamma=1, kernel=poly; total time=   0.8s\n",
      "[CV] END .........................C=0.1, gamma=1, kernel=rbf; total time=   1.6s\n",
      "[CV] END .........................C=0.1, gamma=1, kernel=rbf; total time=   1.6s\n",
      "[CV] END .........................C=0.1, gamma=1, kernel=rbf; total time=   1.6s\n",
      "[CV] END .........................C=0.1, gamma=1, kernel=rbf; total time=   1.6s\n",
      "[CV] END ........................C=0.1, gamma=1, kernel=poly; total time=   1.1s\n",
      "[CV] END ........................C=0.1, gamma=1, kernel=poly; total time=   1.0s\n",
      "[CV] END ........................C=0.1, gamma=1, kernel=poly; total time=   1.0s\n",
      "[CV] END ........................C=0.1, gamma=1, kernel=poly; total time=   1.1s\n",
      "[CV] END ....................C=1, gamma=scale, kernel=linear; total time=   0.8s\n",
      "[CV] END ....................C=1, gamma=scale, kernel=linear; total time=   0.9s\n",
      "[CV] END ....................C=1, gamma=scale, kernel=linear; total time=   0.9s\n",
      "[CV] END ....................C=1, gamma=scale, kernel=linear; total time=   0.9s\n",
      "[CV] END ....................C=1, gamma=scale, kernel=linear; total time=   0.8s\n",
      "[CV] END .......................C=1, gamma=scale, kernel=rbf; total time=   0.9s\n",
      "[CV] END .......................C=1, gamma=scale, kernel=rbf; total time=   1.1s\n",
      "[CV] END .......................C=1, gamma=scale, kernel=rbf; total time=   1.1s\n",
      "[CV] END .......................C=1, gamma=scale, kernel=rbf; total time=   1.0s\n",
      "[CV] END ......................C=1, gamma=scale, kernel=poly; total time=   0.9s\n",
      "[CV] END .......................C=1, gamma=scale, kernel=rbf; total time=   1.0s\n",
      "[CV] END ......................C=1, gamma=scale, kernel=poly; total time=   1.0s\n",
      "[CV] END ......................C=1, gamma=scale, kernel=poly; total time=   1.2s\n",
      "[CV] END .....................C=1, gamma=auto, kernel=linear; total time=   0.8s\n",
      "[CV] END ......................C=1, gamma=scale, kernel=poly; total time=   1.2s\n",
      "[CV] END .....................C=1, gamma=auto, kernel=linear; total time=   1.0s\n",
      "[CV] END ......................C=1, gamma=scale, kernel=poly; total time=   1.1s\n",
      "[CV] END .....................C=1, gamma=auto, kernel=linear; total time=   0.9s\n",
      "[CV] END .....................C=1, gamma=auto, kernel=linear; total time=   0.8s\n",
      "[CV] END .....................C=1, gamma=auto, kernel=linear; total time=   0.9s\n",
      "[CV] END ........................C=1, gamma=auto, kernel=rbf; total time=   1.0s\n",
      "[CV] END ........................C=1, gamma=auto, kernel=rbf; total time=   1.0s\n",
      "[CV] END ........................C=1, gamma=auto, kernel=rbf; total time=   1.1s\n",
      "[CV] END ........................C=1, gamma=auto, kernel=rbf; total time=   1.0s\n",
      "[CV] END ........................C=1, gamma=auto, kernel=rbf; total time=   1.1s\n",
      "[CV] END .......................C=1, gamma=auto, kernel=poly; total time=   1.0s\n",
      "[CV] END .......................C=1, gamma=auto, kernel=poly; total time=   1.0s\n",
      "[CV] END .......................C=1, gamma=auto, kernel=poly; total time=   1.1s\n",
      "[CV] END .......................C=1, gamma=auto, kernel=poly; total time=   1.1s\n",
      "[CV] END ......................C=1, gamma=0.1, kernel=linear; total time=   0.8s\n",
      "[CV] END .......................C=1, gamma=auto, kernel=poly; total time=   1.1s\n",
      "[CV] END ......................C=1, gamma=0.1, kernel=linear; total time=   1.0s\n",
      "[CV] END ......................C=1, gamma=0.1, kernel=linear; total time=   1.0s\n",
      "[CV] END ......................C=1, gamma=0.1, kernel=linear; total time=   0.8s\n",
      "[CV] END ......................C=1, gamma=0.1, kernel=linear; total time=   1.0s\n",
      "[CV] END .........................C=1, gamma=0.1, kernel=rbf; total time=   1.3s\n",
      "[CV] END .........................C=1, gamma=0.1, kernel=rbf; total time=   1.3s\n",
      "[CV] END .........................C=1, gamma=0.1, kernel=rbf; total time=   1.5s\n",
      "[CV] END .........................C=1, gamma=0.1, kernel=rbf; total time=   1.3s\n",
      "[CV] END .........................C=1, gamma=0.1, kernel=rbf; total time=   1.3s\n",
      "[CV] END ........................C=1, gamma=0.1, kernel=poly; total time=   1.4s\n",
      "[CV] END ........................C=1, gamma=0.1, kernel=poly; total time=   1.4s\n",
      "[CV] END ........................C=1, gamma=0.1, kernel=poly; total time=   1.4s\n",
      "[CV] END ........................C=1, gamma=1, kernel=linear; total time=   0.8s\n",
      "[CV] END ........................C=1, gamma=0.1, kernel=poly; total time=   1.5s\n",
      "[CV] END ........................C=1, gamma=1, kernel=linear; total time=   1.0s\n",
      "[CV] END ........................C=1, gamma=1, kernel=linear; total time=   1.0s\n",
      "[CV] END ........................C=1, gamma=1, kernel=linear; total time=   0.8s\n",
      "[CV] END ........................C=1, gamma=1, kernel=linear; total time=   0.9s\n",
      "[CV] END ........................C=1, gamma=0.1, kernel=poly; total time=   1.4s\n",
      "[CV] END ...........................C=1, gamma=1, kernel=rbf; total time=   0.9s\n",
      "[CV] END ...........................C=1, gamma=1, kernel=rbf; total time=   1.0s\n",
      "[CV] END ...........................C=1, gamma=1, kernel=rbf; total time=   1.0s\n",
      "[CV] END ...........................C=1, gamma=1, kernel=rbf; total time=   0.9s\n",
      "[CV] END ...........................C=1, gamma=1, kernel=rbf; total time=   1.0s\n",
      "[CV] END ..........................C=1, gamma=1, kernel=poly; total time=   1.0s\n",
      "[CV] END ..........................C=1, gamma=1, kernel=poly; total time=   1.8s\n",
      "[CV] END ..........................C=1, gamma=1, kernel=poly; total time=   1.8s\n",
      "[CV] END ..........................C=1, gamma=1, kernel=poly; total time=   2.0s\n",
      "[CV] END ...................C=10, gamma=scale, kernel=linear; total time=   1.9s\n",
      "[CV] END ......................C=10, gamma=scale, kernel=rbf; total time=   0.9s\n",
      "[CV] END ...................C=10, gamma=scale, kernel=linear; total time=   2.1s\n",
      "[CV] END ......................C=10, gamma=scale, kernel=rbf; total time=   0.9s\n",
      "[CV] END ..........................C=1, gamma=1, kernel=poly; total time=   2.5s\n",
      "[CV] END ...................C=10, gamma=scale, kernel=linear; total time=   2.1s\n",
      "[CV] END ...................C=10, gamma=scale, kernel=linear; total time=   2.3s\n",
      "[CV] END ...................C=10, gamma=scale, kernel=linear; total time=   1.8s\n",
      "[CV] END ......................C=10, gamma=scale, kernel=rbf; total time=   0.8s\n",
      "[CV] END ......................C=10, gamma=scale, kernel=rbf; total time=   0.9s\n",
      "[CV] END ......................C=10, gamma=scale, kernel=rbf; total time=   0.8s\n",
      "[CV] END .....................C=10, gamma=scale, kernel=poly; total time=   0.9s\n",
      "[CV] END .....................C=10, gamma=scale, kernel=poly; total time=   1.3s\n",
      "[CV] END .....................C=10, gamma=scale, kernel=poly; total time=   1.3s\n",
      "[CV] END .....................C=10, gamma=scale, kernel=poly; total time=   1.4s\n",
      "[CV] END .....................C=10, gamma=scale, kernel=poly; total time=   1.1s\n",
      "[CV] END .......................C=10, gamma=auto, kernel=rbf; total time=   0.7s\n",
      "[CV] END ....................C=10, gamma=auto, kernel=linear; total time=   1.6s\n",
      "[CV] END .......................C=10, gamma=auto, kernel=rbf; total time=   0.8s\n",
      "[CV] END ....................C=10, gamma=auto, kernel=linear; total time=   1.9s\n",
      "[CV] END .......................C=10, gamma=auto, kernel=rbf; total time=   1.0s\n",
      "[CV] END ....................C=10, gamma=auto, kernel=linear; total time=   2.2s\n",
      "[CV] END ....................C=10, gamma=auto, kernel=linear; total time=   2.0s\n",
      "[CV] END .......................C=10, gamma=auto, kernel=rbf; total time=   0.9s\n",
      "[CV] END ....................C=10, gamma=auto, kernel=linear; total time=   1.8s\n",
      "[CV] END .......................C=10, gamma=auto, kernel=rbf; total time=   1.1s\n",
      "[CV] END ......................C=10, gamma=auto, kernel=poly; total time=   1.0s\n",
      "[CV] END ......................C=10, gamma=auto, kernel=poly; total time=   1.5s\n",
      "[CV] END ......................C=10, gamma=auto, kernel=poly; total time=   1.6s\n",
      "[CV] END ......................C=10, gamma=auto, kernel=poly; total time=   1.5s\n",
      "[CV] END ......................C=10, gamma=auto, kernel=poly; total time=   1.7s\n",
      "[CV] END .....................C=10, gamma=0.1, kernel=linear; total time=   2.0s\n",
      "[CV] END .....................C=10, gamma=0.1, kernel=linear; total time=   2.0s\n",
      "[CV] END .....................C=10, gamma=0.1, kernel=linear; total time=   2.1s\n",
      "[CV] END ........................C=10, gamma=0.1, kernel=rbf; total time=   1.1s\n",
      "[CV] END ........................C=10, gamma=0.1, kernel=rbf; total time=   1.1s\n",
      "[CV] END .....................C=10, gamma=0.1, kernel=linear; total time=   2.5s\n",
      "[CV] END ........................C=10, gamma=0.1, kernel=rbf; total time=   1.1s\n",
      "[CV] END .....................C=10, gamma=0.1, kernel=linear; total time=   1.8s\n",
      "[CV] END ........................C=10, gamma=0.1, kernel=rbf; total time=   1.2s\n",
      "[CV] END ........................C=10, gamma=0.1, kernel=rbf; total time=   1.3s\n",
      "[CV] END .......................C=10, gamma=0.1, kernel=poly; total time=   1.1s\n",
      "[CV] END .......................C=10, gamma=0.1, kernel=poly; total time=   1.3s\n",
      "[CV] END .......................C=10, gamma=0.1, kernel=poly; total time=   1.2s\n",
      "[CV] END .......................C=10, gamma=0.1, kernel=poly; total time=   1.3s\n",
      "[CV] END .......................C=10, gamma=0.1, kernel=poly; total time=   1.3s\n",
      "[CV] END ..........................C=10, gamma=1, kernel=rbf; total time=   0.6s\n",
      "[CV] END .......................C=10, gamma=1, kernel=linear; total time=   1.4s\n",
      "[CV] END ..........................C=10, gamma=1, kernel=rbf; total time=   0.7s\n",
      "[CV] END ..........................C=10, gamma=1, kernel=rbf; total time=   0.8s\n",
      "[CV] END .......................C=10, gamma=1, kernel=linear; total time=   1.5s\n",
      "[CV] END .......................C=10, gamma=1, kernel=linear; total time=   1.7s\n",
      "[CV] END .......................C=10, gamma=1, kernel=linear; total time=   1.6s\n",
      "[CV] END ..........................C=10, gamma=1, kernel=rbf; total time=   0.8s\n",
      "[CV] END .......................C=10, gamma=1, kernel=linear; total time=   1.5s\n",
      "[CV] END ..........................C=10, gamma=1, kernel=rbf; total time=   0.8s\n",
      "[CV] END .........................C=10, gamma=1, kernel=poly; total time=   2.4s\n",
      "[CV] END .........................C=10, gamma=1, kernel=poly; total time=   3.7s\n",
      "[CV] END .........................C=10, gamma=1, kernel=poly; total time=   4.6s\n",
      "[CV] END .........................C=10, gamma=1, kernel=poly; total time=   5.1s\n",
      "[CV] END .........................C=10, gamma=1, kernel=poly; total time=   5.7s\n",
      "Best parameters found by GridSearchCV: {'C': 10, 'gamma': 1, 'kernel': 'rbf'}\n"
     ]
    }
   ],
   "source": [
    "# Define the parameter grid for grid search\n",
    "param_grid = {\n",
    "    'kernel': ['linear', 'rbf', 'poly'],\n",
    "    'C': [0.1, 1, 10],\n",
    "    'gamma': ['scale', 'auto', 0.1, 1]\n",
    "}\n",
    "\n",
    "# Initialize the SVC model\n",
    "svc = SVC()\n",
    "\n",
    "# Set up GridSearchCV with 5-fold cross-validation\n",
    "grid_search = GridSearchCV(svc, param_grid, cv=5, scoring='accuracy', n_jobs=-1, verbose=2)\n",
    "\n",
    "# Fit the grid search to the data\n",
    "grid_search.fit(X_train, y_train)\n",
    "\n",
    "# Get the best parameters from the grid search\n",
    "best_params = grid_search.best_params_\n",
    "print(\"Best parameters found by GridSearchCV:\", best_params)"
   ]
  },
  {
   "cell_type": "code",
   "execution_count": 96,
   "metadata": {},
   "outputs": [],
   "source": [
    "best_model = grid_search.best_estimator_\n",
    "y_pred = best_model.predict(X_test)"
   ]
  },
  {
   "cell_type": "code",
   "execution_count": 97,
   "metadata": {},
   "outputs": [],
   "source": [
    "precision = precision_score(y_test, y_pred, average='weighted')\n",
    "recall = recall_score(y_test, y_pred, average='weighted')\n",
    "f1 = f1_score(y_test, y_pred, average='weighted')\n",
    "cm = confusion_matrix(y_test, y_pred)"
   ]
  },
  {
   "cell_type": "code",
   "execution_count": 98,
   "metadata": {},
   "outputs": [
    {
     "name": "stdout",
     "output_type": "stream",
     "text": [
      "Precision (weighted): 0.948120124402448\n",
      "Recall (weighted): 0.9427590154550658\n",
      "F1 Score (weighted): 0.9443054734718676\n"
     ]
    }
   ],
   "source": [
    "print(\"Precision (weighted):\", precision)\n",
    "print(\"Recall (weighted):\", recall)\n",
    "print(\"F1 Score (weighted):\", f1)"
   ]
  },
  {
   "cell_type": "code",
   "execution_count": 99,
   "metadata": {},
   "outputs": [
    {
     "data": {
      "image/png": "[encoded data removed]",
      "text/plain": [
       "<Figure size 800x600 with 2 Axes>"
      ]
     },
     "metadata": {},
     "output_type": "display_data"
    }
   ],
   "source": [
    "pyp.figure(figsize=(8, 6))\n",
    "sbn.heatmap(cm, annot=True, fmt='g', cmap='Blues', xticklabels=label_encoder.classes_, yticklabels=label_encoder.classes_)\n",
    "pyp.title('Tunes SVC - Confusion Matrix')\n",
    "pyp.ylabel('True Label')\n",
    "pyp.xlabel('Predicted Label')\n",
    "pyp.show()"
   ]
  },
  {
   "cell_type": "markdown",
   "metadata": {},
   "source": [
    "Again, we're seeing the same problem persist. It is likely not the model or the parameters, but how I'm choosing training and testing data."
   ]
  },
  {
   "cell_type": "markdown",
   "metadata": {},
   "source": [
    "# Addressing the Imbalanced Classes"
   ]
  },
  {
   "cell_type": "markdown",
   "metadata": {},
   "source": [
    "Thomas gave a suggestion to add a custom penalty matrix. After reading up a bit, it seems that adding a penalty matrix would require me to change the loss function. I tried playing around with this a litter but could not get it to work. Another idea I saw was to use custom class weights. While I could (and tried) coming up with my own class weights, these weights can be estimated based off the class distribution in the training data. However, this calculation does not need to be done by hand, as it can be calculated behind the scenes by passing the `class_weight = 'balanced'` arg to some `scikitlearn` models. I will use my best SVC model because of how that model balanced performance and computation time."
   ]
  },
  {
   "cell_type": "code",
   "execution_count": 116,
   "metadata": {},
   "outputs": [],
   "source": [
    "# Define the best hyperparameters found by GridSearchCV\n",
    "best_params = {'C': 10, 'gamma': 1, 'kernel': 'rbf'}"
   ]
  },
  {
   "cell_type": "code",
   "execution_count": 157,
   "metadata": {},
   "outputs": [
    {
     "data": {
      "text/html": [
       "<style>#sk-container-id-17 {\n",
       "  /* Definition of color scheme common for light and dark mode */\n",
       "  --sklearn-color-text: #000;\n",
       "  --sklearn-color-text-muted: #666;\n",
       "  --sklearn-color-line: gray;\n",
       "  /* Definition of color scheme for unfitted estimators */\n",
       "  --sklearn-color-unfitted-level-0: #fff5e6;\n",
       "  --sklearn-color-unfitted-level-1: #f6e4d2;\n",
       "  --sklearn-color-unfitted-level-2: #ffe0b3;\n",
       "  --sklearn-color-unfitted-level-3: chocolate;\n",
       "  /* Definition of color scheme for fitted estimators */\n",
       "  --sklearn-color-fitted-level-0: #f0f8ff;\n",
       "  --sklearn-color-fitted-level-1: #d4ebff;\n",
       "  --sklearn-color-fitted-level-2: #b3dbfd;\n",
       "  --sklearn-color-fitted-level-3: cornflowerblue;\n",
       "\n",
       "  /* Specific color for light theme */\n",
       "  --sklearn-color-text-on-default-background: var(--sg-text-color, var(--theme-code-foreground, var(--jp-content-font-color1, black)));\n",
       "  --sklearn-color-background: var(--sg-background-color, var(--theme-background, var(--jp-layout-color0, white)));\n",
       "  --sklearn-color-border-box: var(--sg-text-color, var(--theme-code-foreground, var(--jp-content-font-color1, black)));\n",
       "  --sklearn-color-icon: #696969;\n",
       "\n",
       "  @media (prefers-color-scheme: dark) {\n",
       "    /* Redefinition of color scheme for dark theme */\n",
       "    --sklearn-color-text-on-default-background: var(--sg-text-color, var(--theme-code-foreground, var(--jp-content-font-color1, white)));\n",
       "    --sklearn-color-background: var(--sg-background-color, var(--theme-background, var(--jp-layout-color0, #111)));\n",
       "    --sklearn-color-border-box: var(--sg-text-color, var(--theme-code-foreground, var(--jp-content-font-color1, white)));\n",
       "    --sklearn-color-icon: #878787;\n",
       "  }\n",
       "}\n",
       "\n",
       "#sk-container-id-17 {\n",
       "  color: var(--sklearn-color-text);\n",
       "}\n",
       "\n",
       "#sk-container-id-17 pre {\n",
       "  padding: 0;\n",
       "}\n",
       "\n",
       "#sk-container-id-17 input.sk-hidden--visually {\n",
       "  border: 0;\n",
       "  clip: rect(1px 1px 1px 1px);\n",
       "  clip: rect(1px, 1px, 1px, 1px);\n",
       "  height: 1px;\n",
       "  margin: -1px;\n",
       "  overflow: hidden;\n",
       "  padding: 0;\n",
       "  position: absolute;\n",
       "  width: 1px;\n",
       "}\n",
       "\n",
       "#sk-container-id-17 div.sk-dashed-wrapped {\n",
       "  border: 1px dashed var(--sklearn-color-line);\n",
       "  margin: 0 0.4em 0.5em 0.4em;\n",
       "  box-sizing: border-box;\n",
       "  padding-bottom: 0.4em;\n",
       "  background-color: var(--sklearn-color-background);\n",
       "}\n",
       "\n",
       "#sk-container-id-17 div.sk-container {\n",
       "  /* jupyter's `normalize.less` sets `[hidden] { display: none; }`\n",
       "     but bootstrap.min.css set `[hidden] { display: none !important; }`\n",
       "     so we also need the `!important` here to be able to override the\n",
       "     default hidden behavior on the sphinx rendered scikit-learn.org.\n",
       "     See: https://github.com/scikit-learn/scikit-learn/issues/21755 */\n",
       "  display: inline-block !important;\n",
       "  position: relative;\n",
       "}\n",
       "\n",
       "#sk-container-id-17 div.sk-text-repr-fallback {\n",
       "  display: none;\n",
       "}\n",
       "\n",
       "div.sk-parallel-item,\n",
       "div.sk-serial,\n",
       "div.sk-item {\n",
       "  /* draw centered vertical line to link estimators */\n",
       "  background-image: linear-gradient(var(--sklearn-color-text-on-default-background), var(--sklearn-color-text-on-default-background));\n",
       "  background-size: 2px 100%;\n",
       "  background-repeat: no-repeat;\n",
       "  background-position: center center;\n",
       "}\n",
       "\n",
       "/* Parallel-specific style estimator block */\n",
       "\n",
       "#sk-container-id-17 div.sk-parallel-item::after {\n",
       "  content: \"\";\n",
       "  width: 100%;\n",
       "  border-bottom: 2px solid var(--sklearn-color-text-on-default-background);\n",
       "  flex-grow: 1;\n",
       "}\n",
       "\n",
       "#sk-container-id-17 div.sk-parallel {\n",
       "  display: flex;\n",
       "  align-items: stretch;\n",
       "  justify-content: center;\n",
       "  background-color: var(--sklearn-color-background);\n",
       "  position: relative;\n",
       "}\n",
       "\n",
       "#sk-container-id-17 div.sk-parallel-item {\n",
       "  display: flex;\n",
       "  flex-direction: column;\n",
       "}\n",
       "\n",
       "#sk-container-id-17 div.sk-parallel-item:first-child::after {\n",
       "  align-self: flex-end;\n",
       "  width: 50%;\n",
       "}\n",
       "\n",
       "#sk-container-id-17 div.sk-parallel-item:last-child::after {\n",
       "  align-self: flex-start;\n",
       "  width: 50%;\n",
       "}\n",
       "\n",
       "#sk-container-id-17 div.sk-parallel-item:only-child::after {\n",
       "  width: 0;\n",
       "}\n",
       "\n",
       "/* Serial-specific style estimator block */\n",
       "\n",
       "#sk-container-id-17 div.sk-serial {\n",
       "  display: flex;\n",
       "  flex-direction: column;\n",
       "  align-items: center;\n",
       "  background-color: var(--sklearn-color-background);\n",
       "  padding-right: 1em;\n",
       "  padding-left: 1em;\n",
       "}\n",
       "\n",
       "\n",
       "/* Toggleable style: style used for estimator/Pipeline/ColumnTransformer box that is\n",
       "clickable and can be expanded/collapsed.\n",
       "- Pipeline and ColumnTransformer use this feature and define the default style\n",
       "- Estimators will overwrite some part of the style using the `sk-estimator` class\n",
       "*/\n",
       "\n",
       "/* Pipeline and ColumnTransformer style (default) */\n",
       "\n",
       "#sk-container-id-17 div.sk-toggleable {\n",
       "  /* Default theme specific background. It is overwritten whether we have a\n",
       "  specific estimator or a Pipeline/ColumnTransformer */\n",
       "  background-color: var(--sklearn-color-background);\n",
       "}\n",
       "\n",
       "/* Toggleable label */\n",
       "#sk-container-id-17 label.sk-toggleable__label {\n",
       "  cursor: pointer;\n",
       "  display: flex;\n",
       "  width: 100%;\n",
       "  margin-bottom: 0;\n",
       "  padding: 0.5em;\n",
       "  box-sizing: border-box;\n",
       "  text-align: center;\n",
       "  align-items: start;\n",
       "  justify-content: space-between;\n",
       "  gap: 0.5em;\n",
       "}\n",
       "\n",
       "#sk-container-id-17 label.sk-toggleable__label .caption {\n",
       "  font-size: 0.6rem;\n",
       "  font-weight: lighter;\n",
       "  color: var(--sklearn-color-text-muted);\n",
       "}\n",
       "\n",
       "#sk-container-id-17 label.sk-toggleable__label-arrow:before {\n",
       "  /* Arrow on the left of the label */\n",
       "  content: \"▸\";\n",
       "  float: left;\n",
       "  margin-right: 0.25em;\n",
       "  color: var(--sklearn-color-icon);\n",
       "}\n",
       "\n",
       "#sk-container-id-17 label.sk-toggleable__label-arrow:hover:before {\n",
       "  color: var(--sklearn-color-text);\n",
       "}\n",
       "\n",
       "/* Toggleable content - dropdown */\n",
       "\n",
       "#sk-container-id-17 div.sk-toggleable__content {\n",
       "  max-height: 0;\n",
       "  max-width: 0;\n",
       "  overflow: hidden;\n",
       "  text-align: left;\n",
       "  /* unfitted */\n",
       "  background-color: var(--sklearn-color-unfitted-level-0);\n",
       "}\n",
       "\n",
       "#sk-container-id-17 div.sk-toggleable__content.fitted {\n",
       "  /* fitted */\n",
       "  background-color: var(--sklearn-color-fitted-level-0);\n",
       "}\n",
       "\n",
       "#sk-container-id-17 div.sk-toggleable__content pre {\n",
       "  margin: 0.2em;\n",
       "  border-radius: 0.25em;\n",
       "  color: var(--sklearn-color-text);\n",
       "  /* unfitted */\n",
       "  background-color: var(--sklearn-color-unfitted-level-0);\n",
       "}\n",
       "\n",
       "#sk-container-id-17 div.sk-toggleable__content.fitted pre {\n",
       "  /* unfitted */\n",
       "  background-color: var(--sklearn-color-fitted-level-0);\n",
       "}\n",
       "\n",
       "#sk-container-id-17 input.sk-toggleable__control:checked~div.sk-toggleable__content {\n",
       "  /* Expand drop-down */\n",
       "  max-height: 200px;\n",
       "  max-width: 100%;\n",
       "  overflow: auto;\n",
       "}\n",
       "\n",
       "#sk-container-id-17 input.sk-toggleable__control:checked~label.sk-toggleable__label-arrow:before {\n",
       "  content: \"▾\";\n",
       "}\n",
       "\n",
       "/* Pipeline/ColumnTransformer-specific style */\n",
       "\n",
       "#sk-container-id-17 div.sk-label input.sk-toggleable__control:checked~label.sk-toggleable__label {\n",
       "  color: var(--sklearn-color-text);\n",
       "  background-color: var(--sklearn-color-unfitted-level-2);\n",
       "}\n",
       "\n",
       "#sk-container-id-17 div.sk-label.fitted input.sk-toggleable__control:checked~label.sk-toggleable__label {\n",
       "  background-color: var(--sklearn-color-fitted-level-2);\n",
       "}\n",
       "\n",
       "/* Estimator-specific style */\n",
       "\n",
       "/* Colorize estimator box */\n",
       "#sk-container-id-17 div.sk-estimator input.sk-toggleable__control:checked~label.sk-toggleable__label {\n",
       "  /* unfitted */\n",
       "  background-color: var(--sklearn-color-unfitted-level-2);\n",
       "}\n",
       "\n",
       "#sk-container-id-17 div.sk-estimator.fitted input.sk-toggleable__control:checked~label.sk-toggleable__label {\n",
       "  /* fitted */\n",
       "  background-color: var(--sklearn-color-fitted-level-2);\n",
       "}\n",
       "\n",
       "#sk-container-id-17 div.sk-label label.sk-toggleable__label,\n",
       "#sk-container-id-17 div.sk-label label {\n",
       "  /* The background is the default theme color */\n",
       "  color: var(--sklearn-color-text-on-default-background);\n",
       "}\n",
       "\n",
       "/* On hover, darken the color of the background */\n",
       "#sk-container-id-17 div.sk-label:hover label.sk-toggleable__label {\n",
       "  color: var(--sklearn-color-text);\n",
       "  background-color: var(--sklearn-color-unfitted-level-2);\n",
       "}\n",
       "\n",
       "/* Label box, darken color on hover, fitted */\n",
       "#sk-container-id-17 div.sk-label.fitted:hover label.sk-toggleable__label.fitted {\n",
       "  color: var(--sklearn-color-text);\n",
       "  background-color: var(--sklearn-color-fitted-level-2);\n",
       "}\n",
       "\n",
       "/* Estimator label */\n",
       "\n",
       "#sk-container-id-17 div.sk-label label {\n",
       "  font-family: monospace;\n",
       "  font-weight: bold;\n",
       "  display: inline-block;\n",
       "  line-height: 1.2em;\n",
       "}\n",
       "\n",
       "#sk-container-id-17 div.sk-label-container {\n",
       "  text-align: center;\n",
       "}\n",
       "\n",
       "/* Estimator-specific */\n",
       "#sk-container-id-17 div.sk-estimator {\n",
       "  font-family: monospace;\n",
       "  border: 1px dotted var(--sklearn-color-border-box);\n",
       "  border-radius: 0.25em;\n",
       "  box-sizing: border-box;\n",
       "  margin-bottom: 0.5em;\n",
       "  /* unfitted */\n",
       "  background-color: var(--sklearn-color-unfitted-level-0);\n",
       "}\n",
       "\n",
       "#sk-container-id-17 div.sk-estimator.fitted {\n",
       "  /* fitted */\n",
       "  background-color: var(--sklearn-color-fitted-level-0);\n",
       "}\n",
       "\n",
       "/* on hover */\n",
       "#sk-container-id-17 div.sk-estimator:hover {\n",
       "  /* unfitted */\n",
       "  background-color: var(--sklearn-color-unfitted-level-2);\n",
       "}\n",
       "\n",
       "#sk-container-id-17 div.sk-estimator.fitted:hover {\n",
       "  /* fitted */\n",
       "  background-color: var(--sklearn-color-fitted-level-2);\n",
       "}\n",
       "\n",
       "/* Specification for estimator info (e.g. \"i\" and \"?\") */\n",
       "\n",
       "/* Common style for \"i\" and \"?\" */\n",
       "\n",
       ".sk-estimator-doc-link,\n",
       "a:link.sk-estimator-doc-link,\n",
       "a:visited.sk-estimator-doc-link {\n",
       "  float: right;\n",
       "  font-size: smaller;\n",
       "  line-height: 1em;\n",
       "  font-family: monospace;\n",
       "  background-color: var(--sklearn-color-background);\n",
       "  border-radius: 1em;\n",
       "  height: 1em;\n",
       "  width: 1em;\n",
       "  text-decoration: none !important;\n",
       "  margin-left: 0.5em;\n",
       "  text-align: center;\n",
       "  /* unfitted */\n",
       "  border: var(--sklearn-color-unfitted-level-1) 1pt solid;\n",
       "  color: var(--sklearn-color-unfitted-level-1);\n",
       "}\n",
       "\n",
       ".sk-estimator-doc-link.fitted,\n",
       "a:link.sk-estimator-doc-link.fitted,\n",
       "a:visited.sk-estimator-doc-link.fitted {\n",
       "  /* fitted */\n",
       "  border: var(--sklearn-color-fitted-level-1) 1pt solid;\n",
       "  color: var(--sklearn-color-fitted-level-1);\n",
       "}\n",
       "\n",
       "/* On hover */\n",
       "div.sk-estimator:hover .sk-estimator-doc-link:hover,\n",
       ".sk-estimator-doc-link:hover,\n",
       "div.sk-label-container:hover .sk-estimator-doc-link:hover,\n",
       ".sk-estimator-doc-link:hover {\n",
       "  /* unfitted */\n",
       "  background-color: var(--sklearn-color-unfitted-level-3);\n",
       "  color: var(--sklearn-color-background);\n",
       "  text-decoration: none;\n",
       "}\n",
       "\n",
       "div.sk-estimator.fitted:hover .sk-estimator-doc-link.fitted:hover,\n",
       ".sk-estimator-doc-link.fitted:hover,\n",
       "div.sk-label-container:hover .sk-estimator-doc-link.fitted:hover,\n",
       ".sk-estimator-doc-link.fitted:hover {\n",
       "  /* fitted */\n",
       "  background-color: var(--sklearn-color-fitted-level-3);\n",
       "  color: var(--sklearn-color-background);\n",
       "  text-decoration: none;\n",
       "}\n",
       "\n",
       "/* Span, style for the box shown on hovering the info icon */\n",
       ".sk-estimator-doc-link span {\n",
       "  display: none;\n",
       "  z-index: 9999;\n",
       "  position: relative;\n",
       "  font-weight: normal;\n",
       "  right: .2ex;\n",
       "  padding: .5ex;\n",
       "  margin: .5ex;\n",
       "  width: min-content;\n",
       "  min-width: 20ex;\n",
       "  max-width: 50ex;\n",
       "  color: var(--sklearn-color-text);\n",
       "  box-shadow: 2pt 2pt 4pt #999;\n",
       "  /* unfitted */\n",
       "  background: var(--sklearn-color-unfitted-level-0);\n",
       "  border: .5pt solid var(--sklearn-color-unfitted-level-3);\n",
       "}\n",
       "\n",
       ".sk-estimator-doc-link.fitted span {\n",
       "  /* fitted */\n",
       "  background: var(--sklearn-color-fitted-level-0);\n",
       "  border: var(--sklearn-color-fitted-level-3);\n",
       "}\n",
       "\n",
       ".sk-estimator-doc-link:hover span {\n",
       "  display: block;\n",
       "}\n",
       "\n",
       "/* \"?\"-specific style due to the `<a>` HTML tag */\n",
       "\n",
       "#sk-container-id-17 a.estimator_doc_link {\n",
       "  float: right;\n",
       "  font-size: 1rem;\n",
       "  line-height: 1em;\n",
       "  font-family: monospace;\n",
       "  background-color: var(--sklearn-color-background);\n",
       "  border-radius: 1rem;\n",
       "  height: 1rem;\n",
       "  width: 1rem;\n",
       "  text-decoration: none;\n",
       "  /* unfitted */\n",
       "  color: var(--sklearn-color-unfitted-level-1);\n",
       "  border: var(--sklearn-color-unfitted-level-1) 1pt solid;\n",
       "}\n",
       "\n",
       "#sk-container-id-17 a.estimator_doc_link.fitted {\n",
       "  /* fitted */\n",
       "  border: var(--sklearn-color-fitted-level-1) 1pt solid;\n",
       "  color: var(--sklearn-color-fitted-level-1);\n",
       "}\n",
       "\n",
       "/* On hover */\n",
       "#sk-container-id-17 a.estimator_doc_link:hover {\n",
       "  /* unfitted */\n",
       "  background-color: var(--sklearn-color-unfitted-level-3);\n",
       "  color: var(--sklearn-color-background);\n",
       "  text-decoration: none;\n",
       "}\n",
       "\n",
       "#sk-container-id-17 a.estimator_doc_link.fitted:hover {\n",
       "  /* fitted */\n",
       "  background-color: var(--sklearn-color-fitted-level-3);\n",
       "}\n",
       "</style><div id=\"sk-container-id-17\" class=\"sk-top-container\"><div class=\"sk-text-repr-fallback\"><pre>SVC(C=10, class_weight=&#x27;balanced&#x27;, gamma=1)</pre><b>In a Jupyter environment, please rerun this cell to show the HTML representation or trust the notebook. <br />On GitHub, the HTML representation is unable to render, please try loading this page with nbviewer.org.</b></div><div class=\"sk-container\" hidden><div class=\"sk-item\"><div class=\"sk-estimator fitted sk-toggleable\"><input class=\"sk-toggleable__control sk-hidden--visually\" id=\"sk-estimator-id-17\" type=\"checkbox\" checked><label for=\"sk-estimator-id-17\" class=\"sk-toggleable__label fitted sk-toggleable__label-arrow\"><div><div>SVC</div></div><div><a class=\"sk-estimator-doc-link fitted\" rel=\"noreferrer\" target=\"_blank\" href=\"https://scikit-learn.org/1.6/modules/generated/sklearn.svm.SVC.html\">?<span>Documentation for SVC</span></a><span class=\"sk-estimator-doc-link fitted\">i<span>Fitted</span></span></div></label><div class=\"sk-toggleable__content fitted\"><pre>SVC(C=10, class_weight=&#x27;balanced&#x27;, gamma=1)</pre></div> </div></div></div></div>"
      ],
      "text/plain": [
       "SVC(C=10, class_weight='balanced', gamma=1)"
      ]
     },
     "execution_count": 157,
     "metadata": {},
     "output_type": "execute_result"
    }
   ],
   "source": [
    "# Instantiate the SVC model with the best parameters and custom class weights\n",
    "svc_model = SVC(C=best_params['C'], \n",
    "                gamma=best_params['gamma'], \n",
    "                kernel=best_params['kernel'],\n",
    "                class_weight='balanced')\n",
    "# Fit the model to your data\n",
    "svc_model.fit(X_train, y_train)"
   ]
  },
  {
   "cell_type": "code",
   "execution_count": 158,
   "metadata": {},
   "outputs": [],
   "source": [
    "y_pred = svc_model.predict(X_test)"
   ]
  },
  {
   "cell_type": "code",
   "execution_count": 159,
   "metadata": {},
   "outputs": [],
   "source": [
    "precision = precision_score(y_test, y_pred, average='weighted')\n",
    "recall = recall_score(y_test, y_pred, average='weighted')\n",
    "f1 = f1_score(y_test, y_pred, average='weighted')\n",
    "cm = confusion_matrix(y_test, y_pred)"
   ]
  },
  {
   "cell_type": "code",
   "execution_count": 160,
   "metadata": {},
   "outputs": [
    {
     "name": "stdout",
     "output_type": "stream",
     "text": [
      "Precision (weighted): 0.9412059794675812\n",
      "Recall (weighted): 0.9290211791642816\n",
      "F1 Score (weighted): 0.9323783148867689\n"
     ]
    }
   ],
   "source": [
    "print(\"Precision (weighted):\", precision)\n",
    "print(\"Recall (weighted):\", recall)\n",
    "print(\"F1 Score (weighted):\", f1)"
   ]
  },
  {
   "cell_type": "code",
   "execution_count": 161,
   "metadata": {},
   "outputs": [
    {
     "data": {
      "image/png": "[encoded data removed]",
      "text/plain": [
       "<Figure size 800x600 with 2 Axes>"
      ]
     },
     "metadata": {},
     "output_type": "display_data"
    }
   ],
   "source": [
    "pyp.figure(figsize=(8, 6))\n",
    "sbn.heatmap(cm, annot=True, fmt='g', cmap='Blues', xticklabels=label_encoder.classes_, yticklabels=label_encoder.classes_)\n",
    "pyp.title('Tunes SVC - Confusion Matrix')\n",
    "pyp.ylabel('True Label')\n",
    "pyp.xlabel('Predicted Label')\n",
    "pyp.show()"
   ]
  },
  {
   "cell_type": "markdown",
   "metadata": {},
   "source": [
    "Even when balancing the classes with optimal weights, the model still struggles in the same areas. It is likely that a custom penalty matrix would be able to address this issue, as it can address specific types of misclassifications (like the many instances where the model classifies a SLIGHT sea as a SMOOTH sea), but unfortunately I can't get that to work within the time constraints."
   ]
  },
  {
   "cell_type": "markdown",
   "metadata": {},
   "source": [
    "## Discussion"
   ]
  },
  {
   "cell_type": "markdown",
   "metadata": {},
   "source": [
    "### Which method did you like the most?"
   ]
  },
  {
   "cell_type": "markdown",
   "metadata": {},
   "source": [
    "I think the GB and SVM are the most promising. I liked them because they had hyperparameters that I could tune to fit the needs of my data better. Each also had a distinct advantage: GB is an ensemble approach, and SVM has custom kernels."
   ]
  },
  {
   "cell_type": "markdown",
   "metadata": {},
   "source": [
    "### Which method did you like the least?"
   ]
  },
  {
   "cell_type": "markdown",
   "metadata": {},
   "source": [
    "I like logistical regression the least. While it was simple to set up and really fast, there are no hyperparameters to tune so it was hard to improve results."
   ]
  },
  {
   "cell_type": "markdown",
   "metadata": {},
   "source": [
    "### How did you score these supervised models?"
   ]
  },
  {
   "cell_type": "markdown",
   "metadata": {},
   "source": [
    "I use precision, recall, F1, and confusion matrices."
   ]
  },
  {
   "cell_type": "markdown",
   "metadata": {},
   "source": [
    "### Did the output align with your geologic (oceanographic) understanding?"
   ]
  },
  {
   "cell_type": "markdown",
   "metadata": {},
   "source": [
    "I think each models confusion between slight and moderate is understandable from an oceanographic perspective. While rough seas and extremely calm seas are likely east to characterize because they have distinct characteristics that define them, the \"middle-of-the-road\" seastates like moderate and slight are probably less distinct, which is supported by how each model struggled with them."
   ]
  },
  {
   "cell_type": "markdown",
   "metadata": {},
   "source": [
    "### Did you hyperparameter tune? Why or why not?"
   ]
  },
  {
   "cell_type": "markdown",
   "metadata": {},
   "source": [
    "Yes, I did hyperparameter tuning for the GB and SVM models. The default settings (or any initial settings I may guess) for either model are very unlikely to be the ones that provide the best fit. Grid searching is a good method for systematically testing for different hyperparameters without having to run them all manually, which is why I used it."
   ]
  },
  {
   "cell_type": "markdown",
   "metadata": {},
   "source": [
    "### How did you split your data? Why does that make sense for this dataset?"
   ]
  },
  {
   "cell_type": "markdown",
   "metadata": {},
   "source": [
    "I chose to do a temporal split where I took the first 80% of data (in time order) and used it for training and took the last 20% and set it aside for testing. This was to ensure that my testing set was as independent as possible from my training set and to avoid autocorrelation issues. As with most geophysical data, observations close in time to one another are not independent---they are related to some decorrelation scale. A random split very likely would have put data that is closely correlated in both the training and testing set. Also, using this method of temporal splitting also assessed how my model was able to generalize. As I had 1 year of data, the last 20% of data was from the winter months of 2023. Wave conditions are not the same all year round (and are highly seasonal), so using data from a different season assessed how well the model was able to generalize to new conditions."
   ]
  },
  {
   "cell_type": "markdown",
   "metadata": {},
   "source": [
    "### What did you want to learn more about?"
   ]
  },
  {
   "cell_type": "markdown",
   "metadata": {},
   "source": [
    "I think the problem I was having with the moderate and slight categories has to do with the fact that my labels are highly imbalanced. I think for my final version, I want to play around with either a) finding ways to rebalance my datasets; or b) finding a way to penalize models more during training when they misclassify a minority label/award them for classifying one correctly."
   ]
  },
  {
   "cell_type": "markdown",
   "metadata": {},
   "source": [
    "### Did you pre-process your data?"
   ]
  },
  {
   "cell_type": "markdown",
   "metadata": {},
   "source": [
    "Yes. I had to:\n",
    "- Remove unused features\n",
    "- Rename columns to make them more intuitive\n",
    "- Parse the native timestamps to datetime objects\n",
    "- Remove bad data\n",
    "- Scale my features\n",
    "- Encode my labels to a number\n",
    "- Split my data into training and testing sets"
   ]
  },
  {
   "cell_type": "markdown",
   "metadata": {},
   "source": [
    "### Do all models require pre-processing? "
   ]
  },
  {
   "cell_type": "markdown",
   "metadata": {},
   "source": [
    "In my opinion, yes---all models require some level of preprocessing. On a higher level, things like missing data (NaNs or set to 99, like in this case) or data that is not formatted in an intuitive way (like the timestamps in this dataset) can make the modeling process needlessly confusing, can drastically skew results, or can altogether make a model fail. More specifically, things like thoughtful train-test splitting and scaling features are subtle steps but ensure that a model is robust and not misleading or inaccurate."
   ]
  }
 ],
 "metadata": {
  "kernelspec": {
   "display_name": "test",
   "language": "python",
   "name": "python3"
  },
  "language_info": {
   "codemirror_mode": {
    "name": "ipython",
    "version": 3
   },
   "file_extension": ".py",
   "mimetype": "text/x-python",
   "name": "python",
   "nbconvert_exporter": "python",
   "pygments_lexer": "ipython3",
   "version": "3.12.2"
  }
 },
 "nbformat": 4,
 "nbformat_minor": 2
}
